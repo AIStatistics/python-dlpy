{
 "cells": [
  {
   "cell_type": "markdown",
   "metadata": {},
   "source": [
    "# Tabular Data Regression Example"
   ]
  },
  {
   "cell_type": "markdown",
   "metadata": {},
   "source": [
    "In this example, we demonstrate how to use dlpy to build a simple neural network for tabular data regression problems. \n",
    "\n",
    "The california housing dataset we used here is contained in the sklearn package. More details about the data can be found here:https://scikit-learn.org/stable/datasets/index.html#california-housing-dataset\n",
    "\n",
    "Key steps involved:\n",
    "1. Upload data to the server\n",
    "2. Build and train a fully connected feedforward neural network model with dlpy.\n",
    "3. Predict on the testing dataset.\n",
    "4. Evaluate the training and testing loss"
   ]
  },
  {
   "cell_type": "markdown",
   "metadata": {},
   "source": [
    "### 1. Import python modules"
   ]
  },
  {
   "cell_type": "code",
   "execution_count": 1,
   "metadata": {},
   "outputs": [],
   "source": [
    "import pandas as pd\n",
    "import numpy as np\n",
    "import matplotlib.pylab as plt\n",
    "from sklearn.datasets import fetch_california_housing #The dataset is from sklearn package, with version >= 0.20.1\n",
    "from swat.cas import datamsghandlers\n",
    "from swat import CAS, CASTable\n",
    "from dlpy import Model, Sequential\n",
    "from dlpy.model import Optimizer, AdamSolver\n",
    "from dlpy.layers import * \n",
    "from dlpy.splitting import two_way_split\n",
    "from dlpy.metrics import explained_variance_score, mean_squared_error, mean_absolute_error\n",
    "%matplotlib inline"
   ]
  },
  {
   "cell_type": "markdown",
   "metadata": {},
   "source": [
    "### 2. Connect to CAS server"
   ]
  },
  {
   "cell_type": "code",
   "execution_count": 2,
   "metadata": {},
   "outputs": [],
   "source": [
    "conn = CAS(host_name, port_number)"
   ]
  },
  {
   "cell_type": "markdown",
   "metadata": {},
   "source": [
    "### 3. Load examples dataset from scikit-learn"
   ]
  },
  {
   "cell_type": "code",
   "execution_count": 3,
   "metadata": {},
   "outputs": [],
   "source": [
    "# load the california housing data\n",
    "california_housing = fetch_california_housing()\n",
    "\n",
    "# Get data into two pandas dataframes for the predictors(ch_x_df) and target(ch_y_df). \n",
    "ch_x_df = pd.DataFrame(california_housing['data'], columns=california_housing['feature_names'])\n",
    "ch_y_df = pd.DataFrame(california_housing['target'], columns=['house_value'])\n",
    "\n",
    "# Concatenate the data into one dataframe\n",
    "ch_df = pd.concat([ch_x_df, ch_y_df], axis=1)"
   ]
  },
  {
   "cell_type": "code",
   "execution_count": 4,
   "metadata": {},
   "outputs": [
    {
     "data": {
      "text/html": [
       "<div>\n",
       "<style scoped>\n",
       "    .dataframe tbody tr th:only-of-type {\n",
       "        vertical-align: middle;\n",
       "    }\n",
       "\n",
       "    .dataframe tbody tr th {\n",
       "        vertical-align: top;\n",
       "    }\n",
       "\n",
       "    .dataframe thead th {\n",
       "        text-align: right;\n",
       "    }\n",
       "</style>\n",
       "<table border=\"1\" class=\"dataframe\">\n",
       "  <thead>\n",
       "    <tr style=\"text-align: right;\">\n",
       "      <th></th>\n",
       "      <th>MedInc</th>\n",
       "      <th>HouseAge</th>\n",
       "      <th>AveRooms</th>\n",
       "      <th>AveBedrms</th>\n",
       "      <th>Population</th>\n",
       "      <th>AveOccup</th>\n",
       "      <th>Latitude</th>\n",
       "      <th>Longitude</th>\n",
       "      <th>house_value</th>\n",
       "    </tr>\n",
       "  </thead>\n",
       "  <tbody>\n",
       "    <tr>\n",
       "      <th>0</th>\n",
       "      <td>8.3252</td>\n",
       "      <td>41.0</td>\n",
       "      <td>6.984127</td>\n",
       "      <td>1.023810</td>\n",
       "      <td>322.0</td>\n",
       "      <td>2.555556</td>\n",
       "      <td>37.88</td>\n",
       "      <td>-122.23</td>\n",
       "      <td>4.526</td>\n",
       "    </tr>\n",
       "    <tr>\n",
       "      <th>1</th>\n",
       "      <td>8.3014</td>\n",
       "      <td>21.0</td>\n",
       "      <td>6.238137</td>\n",
       "      <td>0.971880</td>\n",
       "      <td>2401.0</td>\n",
       "      <td>2.109842</td>\n",
       "      <td>37.86</td>\n",
       "      <td>-122.22</td>\n",
       "      <td>3.585</td>\n",
       "    </tr>\n",
       "    <tr>\n",
       "      <th>2</th>\n",
       "      <td>7.2574</td>\n",
       "      <td>52.0</td>\n",
       "      <td>8.288136</td>\n",
       "      <td>1.073446</td>\n",
       "      <td>496.0</td>\n",
       "      <td>2.802260</td>\n",
       "      <td>37.85</td>\n",
       "      <td>-122.24</td>\n",
       "      <td>3.521</td>\n",
       "    </tr>\n",
       "    <tr>\n",
       "      <th>3</th>\n",
       "      <td>5.6431</td>\n",
       "      <td>52.0</td>\n",
       "      <td>5.817352</td>\n",
       "      <td>1.073059</td>\n",
       "      <td>558.0</td>\n",
       "      <td>2.547945</td>\n",
       "      <td>37.85</td>\n",
       "      <td>-122.25</td>\n",
       "      <td>3.413</td>\n",
       "    </tr>\n",
       "    <tr>\n",
       "      <th>4</th>\n",
       "      <td>3.8462</td>\n",
       "      <td>52.0</td>\n",
       "      <td>6.281853</td>\n",
       "      <td>1.081081</td>\n",
       "      <td>565.0</td>\n",
       "      <td>2.181467</td>\n",
       "      <td>37.85</td>\n",
       "      <td>-122.25</td>\n",
       "      <td>3.422</td>\n",
       "    </tr>\n",
       "    <tr>\n",
       "      <th>5</th>\n",
       "      <td>4.0368</td>\n",
       "      <td>52.0</td>\n",
       "      <td>4.761658</td>\n",
       "      <td>1.103627</td>\n",
       "      <td>413.0</td>\n",
       "      <td>2.139896</td>\n",
       "      <td>37.85</td>\n",
       "      <td>-122.25</td>\n",
       "      <td>2.697</td>\n",
       "    </tr>\n",
       "    <tr>\n",
       "      <th>6</th>\n",
       "      <td>3.6591</td>\n",
       "      <td>52.0</td>\n",
       "      <td>4.931907</td>\n",
       "      <td>0.951362</td>\n",
       "      <td>1094.0</td>\n",
       "      <td>2.128405</td>\n",
       "      <td>37.84</td>\n",
       "      <td>-122.25</td>\n",
       "      <td>2.992</td>\n",
       "    </tr>\n",
       "    <tr>\n",
       "      <th>7</th>\n",
       "      <td>3.1200</td>\n",
       "      <td>52.0</td>\n",
       "      <td>4.797527</td>\n",
       "      <td>1.061824</td>\n",
       "      <td>1157.0</td>\n",
       "      <td>1.788253</td>\n",
       "      <td>37.84</td>\n",
       "      <td>-122.25</td>\n",
       "      <td>2.414</td>\n",
       "    </tr>\n",
       "    <tr>\n",
       "      <th>8</th>\n",
       "      <td>2.0804</td>\n",
       "      <td>42.0</td>\n",
       "      <td>4.294118</td>\n",
       "      <td>1.117647</td>\n",
       "      <td>1206.0</td>\n",
       "      <td>2.026891</td>\n",
       "      <td>37.84</td>\n",
       "      <td>-122.26</td>\n",
       "      <td>2.267</td>\n",
       "    </tr>\n",
       "    <tr>\n",
       "      <th>9</th>\n",
       "      <td>3.6912</td>\n",
       "      <td>52.0</td>\n",
       "      <td>4.970588</td>\n",
       "      <td>0.990196</td>\n",
       "      <td>1551.0</td>\n",
       "      <td>2.172269</td>\n",
       "      <td>37.84</td>\n",
       "      <td>-122.25</td>\n",
       "      <td>2.611</td>\n",
       "    </tr>\n",
       "    <tr>\n",
       "      <th>10</th>\n",
       "      <td>3.2031</td>\n",
       "      <td>52.0</td>\n",
       "      <td>5.477612</td>\n",
       "      <td>1.079602</td>\n",
       "      <td>910.0</td>\n",
       "      <td>2.263682</td>\n",
       "      <td>37.85</td>\n",
       "      <td>-122.26</td>\n",
       "      <td>2.815</td>\n",
       "    </tr>\n",
       "  </tbody>\n",
       "</table>\n",
       "</div>"
      ],
      "text/plain": [
       "    MedInc  HouseAge  AveRooms  AveBedrms  Population  AveOccup  Latitude  \\\n",
       "0   8.3252      41.0  6.984127   1.023810       322.0  2.555556     37.88   \n",
       "1   8.3014      21.0  6.238137   0.971880      2401.0  2.109842     37.86   \n",
       "2   7.2574      52.0  8.288136   1.073446       496.0  2.802260     37.85   \n",
       "3   5.6431      52.0  5.817352   1.073059       558.0  2.547945     37.85   \n",
       "4   3.8462      52.0  6.281853   1.081081       565.0  2.181467     37.85   \n",
       "5   4.0368      52.0  4.761658   1.103627       413.0  2.139896     37.85   \n",
       "6   3.6591      52.0  4.931907   0.951362      1094.0  2.128405     37.84   \n",
       "7   3.1200      52.0  4.797527   1.061824      1157.0  1.788253     37.84   \n",
       "8   2.0804      42.0  4.294118   1.117647      1206.0  2.026891     37.84   \n",
       "9   3.6912      52.0  4.970588   0.990196      1551.0  2.172269     37.84   \n",
       "10  3.2031      52.0  5.477612   1.079602       910.0  2.263682     37.85   \n",
       "\n",
       "    Longitude  house_value  \n",
       "0     -122.23        4.526  \n",
       "1     -122.22        3.585  \n",
       "2     -122.24        3.521  \n",
       "3     -122.25        3.413  \n",
       "4     -122.25        3.422  \n",
       "5     -122.25        2.697  \n",
       "6     -122.25        2.992  \n",
       "7     -122.25        2.414  \n",
       "8     -122.26        2.267  \n",
       "9     -122.25        2.611  \n",
       "10    -122.26        2.815  "
      ]
     },
     "execution_count": 4,
     "metadata": {},
     "output_type": "execute_result"
    }
   ],
   "source": [
    "ch_df.loc[:10]"
   ]
  },
  {
   "cell_type": "markdown",
   "metadata": {},
   "source": [
    "### 4. Upload the pandas dataframe to server"
   ]
  },
  {
   "cell_type": "code",
   "execution_count": 5,
   "metadata": {},
   "outputs": [
    {
     "name": "stdout",
     "output_type": "stream",
     "text": [
      "NOTE: Cloud Analytic Services made the uploaded file available as table CH_DF in caslib CASUSER(ruiliz).\n",
      "NOTE: The table CH_DF has been created in caslib CASUSER(ruiliz) from binary data uploaded to Cloud Analytic Services.\n"
     ]
    }
   ],
   "source": [
    "tbl = conn.upload_frame(ch_df, casout=dict(name='ch_df', replace=True))"
   ]
  },
  {
   "cell_type": "markdown",
   "metadata": {},
   "source": [
    "### 5. Split the data in CAS"
   ]
  },
  {
   "cell_type": "markdown",
   "metadata": {},
   "source": [
    "Here we show the train-test spliting using the `two_way_split` function in `dlpy.splitting`. It performs random sampling and split the data into `train_tbl` and `test_tbl` (on the server side). It is perferred over splitting on the local client side when the data is large, or already hosted on the server. "
   ]
  },
  {
   "cell_type": "code",
   "execution_count": 6,
   "metadata": {},
   "outputs": [],
   "source": [
    "train_tbl, test_tbl = two_way_split(tbl, test_rate=20, seed=123, stratify=False, im_table=False)"
   ]
  },
  {
   "cell_type": "markdown",
   "metadata": {},
   "source": [
    "### 6. Build two layer fully connected neural network"
   ]
  },
  {
   "cell_type": "markdown",
   "metadata": {},
   "source": [
    "Network specifications:\n",
    "1. One dense layer\n",
    "2. Activation function: relu\n",
    "3. Number of layers: 2\n",
    "3. Number of neurons: first layer with 30 neurons and second layer with 10 neurons.\n",
    "4. Output layer activation function: identity.\n",
    "5. Output layer loss function: normal error (squred loss)."
   ]
  },
  {
   "cell_type": "code",
   "execution_count": 7,
   "metadata": {
    "scrolled": true
   },
   "outputs": [
    {
     "name": "stdout",
     "output_type": "stream",
     "text": [
      "NOTE: Input layer added.\n",
      "NOTE: Fully-connected layer added.\n",
      "NOTE: Fully-connected layer added.\n",
      "NOTE: Output layer added.\n",
      "NOTE: Model compiled successfully.\n"
     ]
    }
   ],
   "source": [
    "model1 = Sequential(conn, model_table='Simple_DNN1')\n",
    "model1.add(InputLayer(std='STD'))\n",
    "model1.add(Dense(30, act='relu'))\n",
    "model1.add(Dense(10, act='relu'))\n",
    "model1.add(OutputLayer(act='identity', error='normal')) "
   ]
  },
  {
   "cell_type": "markdown",
   "metadata": {},
   "source": [
    "### 7. Train fully connected neural network"
   ]
  },
  {
   "cell_type": "markdown",
   "metadata": {},
   "source": [
    "Here we specify the optimizer to show a **scheduled training approach** (polynomial decay. The classification example shows a case using stepwise decay learning policy):\n",
    "\n",
    "We use `learning_rate_policy='poly'` to specify polynomial learning rate decreasing policy. The power is `power=1`, which means the learning rate follows the function $initial\\_learning\\_rate*(1 - \\frac{epoch}{max\\_epochs})^{power}$. In addition, we set `log_level=2` to visualize the training log."
   ]
  },
  {
   "cell_type": "code",
   "execution_count": 8,
   "metadata": {
    "scrolled": false
   },
   "outputs": [
    {
     "name": "stdout",
     "output_type": "stream",
     "text": [
      "NOTE: Training from scratch.\n",
      "NOTE:  The Synchronous mode is enabled.\n",
      "NOTE:  The total number of parameters is 591.\n",
      "NOTE:  The approximate memory cost is 2.00 MB.\n",
      "NOTE:  Loading weights cost       0.00 (s).\n",
      "NOTE:  Initializing each layer cost       0.02 (s).\n",
      "NOTE:  The total number of threads on each worker is 80.\n",
      "NOTE:  The total mini-batch size per thread on each worker is 4.\n",
      "NOTE:  The maximum mini-batch size across all workers for the synchronous mode is 320.\n",
      "NOTE:  Target variable: house_value\n",
      "NOTE:  Number of input variables:     8\n",
      "NOTE:  Number of numeric input variables:      8\n",
      "NOTE:  Epoch Learning Rate        Loss  Fit Error   Time(s)\n",
      "NOTE:  0          0.02          0.5332      1.066     0.02\n",
      "NOTE:  1        0.0196          0.2151     0.4302     0.02\n",
      "NOTE:  2        0.0192          0.1953     0.3907     0.02\n",
      "NOTE:  3        0.0188          0.1861     0.3722     0.02\n",
      "NOTE:  4        0.0184          0.1784     0.3568     0.02\n",
      "NOTE:  5         0.018          0.1727     0.3454     0.02\n",
      "NOTE:  6        0.0176          0.1696     0.3391     0.02\n",
      "NOTE:  7        0.0172          0.1678     0.3357     0.02\n",
      "NOTE:  8        0.0168          0.1667     0.3334     0.02\n",
      "NOTE:  9        0.0164           0.164     0.3279     0.02\n",
      "NOTE:  10        0.016          0.1624     0.3248     0.02\n",
      "NOTE:  11       0.0156          0.1614     0.3228     0.02\n",
      "NOTE:  12       0.0152          0.1603     0.3206     0.02\n",
      "NOTE:  13       0.0148          0.1589     0.3178     0.02\n",
      "NOTE:  14       0.0144           0.158     0.3161     0.02\n",
      "NOTE:  15        0.014          0.1571     0.3141     0.02\n",
      "NOTE:  16       0.0136           0.156      0.312     0.02\n",
      "NOTE:  17       0.0132          0.1556     0.3113     0.02\n",
      "NOTE:  18       0.0128          0.1547     0.3094     0.02\n",
      "NOTE:  19       0.0124          0.1535      0.307     0.02\n",
      "NOTE:  20        0.012          0.1526     0.3052     0.02\n",
      "NOTE:  21       0.0116          0.1519     0.3038     0.02\n",
      "NOTE:  22       0.0112          0.1511     0.3023     0.02\n",
      "NOTE:  23       0.0108          0.1504     0.3009     0.02\n",
      "NOTE:  24       0.0104          0.1498     0.2995     0.02\n",
      "NOTE:  25         0.01          0.1492     0.2984     0.02\n",
      "NOTE:  26       0.0096          0.1486     0.2973     0.02\n",
      "NOTE:  27       0.0092          0.1483     0.2965     0.02\n",
      "NOTE:  28       0.0088          0.1476     0.2952     0.02\n",
      "NOTE:  29       0.0084          0.1471     0.2942     0.02\n",
      "NOTE:  30        0.008          0.1467     0.2934     0.02\n",
      "NOTE:  31       0.0076          0.1462     0.2925     0.02\n",
      "NOTE:  32       0.0072          0.1457     0.2914     0.02\n",
      "NOTE:  33       0.0068          0.1453     0.2906     0.02\n",
      "NOTE:  34       0.0064          0.1447     0.2893     0.02\n",
      "NOTE:  35        0.006          0.1441     0.2882     0.02\n",
      "NOTE:  36       0.0056          0.1435      0.287     0.02\n",
      "NOTE:  37       0.0052          0.1428     0.2857     0.02\n",
      "NOTE:  38       0.0048          0.1421     0.2842     0.02\n",
      "NOTE:  39       0.0044          0.1412     0.2825     0.02\n",
      "NOTE:  40        0.004          0.1405      0.281     0.02\n",
      "NOTE:  41       0.0036          0.1397     0.2794     0.02\n",
      "NOTE:  42       0.0032           0.139     0.2779     0.02\n",
      "NOTE:  43       0.0028          0.1384     0.2767     0.02\n",
      "NOTE:  44       0.0024          0.1379     0.2757     0.02\n",
      "NOTE:  45        0.002          0.1372     0.2744     0.02\n",
      "NOTE:  46       0.0016          0.1365      0.273     0.02\n",
      "NOTE:  47       0.0012          0.1359     0.2718     0.02\n",
      "NOTE:  48       0.0008          0.1354     0.2707     0.02\n",
      "NOTE:  49       0.0004          0.1348     0.2697     0.02\n",
      "NOTE:  The optimization reached the maximum number of epochs.\n",
      "NOTE:  The total time is       0.95 (s).\n"
     ]
    }
   ],
   "source": [
    "optimizer = Optimizer(algorithm=AdamSolver(learning_rate=0.02, learning_rate_policy='poly', power=1),\n",
    "                      mini_batch_size=4, seed=1234, max_epochs=50, log_level=2)\n",
    "\n",
    "result = model1.fit(train_tbl, inputs=ch_x_df.columns.tolist(), target='house_value', optimizer=optimizer)"
   ]
  },
  {
   "cell_type": "code",
   "execution_count": 9,
   "metadata": {},
   "outputs": [
    {
     "data": {
      "image/png": "[encoded data removed]",
      "text/plain": [
       "<matplotlib.figure.Figure at 0x1b261f2fda0>"
      ]
     },
     "metadata": {},
     "output_type": "display_data"
    }
   ],
   "source": [
    "# Plot the training history.\n",
    "model1.plot_training_history()"
   ]
  },
  {
   "cell_type": "markdown",
   "metadata": {},
   "source": [
    "### 8. Evaluate fitted and testing results with various regression metrics"
   ]
  },
  {
   "cell_type": "markdown",
   "metadata": {},
   "source": [
    "#### 8.1 Training results"
   ]
  },
  {
   "cell_type": "code",
   "execution_count": 10,
   "metadata": {},
   "outputs": [
    {
     "name": "stdout",
     "output_type": "stream",
     "text": [
      "                         Descr         Value\n",
      "0  Number of Observations Read         16512\n",
      "1  Number of Observations Used         16512\n",
      "2           Mean Squared Error      0.269057\n",
      "3                   Loss Error      0.134528\n"
     ]
    }
   ],
   "source": [
    "# Get the model results information\n",
    "fitted_result = model1.predict(train_tbl)\n",
    "fitted_table = model1.valid_res_tbl\n",
    "print(fitted_result['ScoreInfo'])"
   ]
  },
  {
   "cell_type": "code",
   "execution_count": 11,
   "metadata": {},
   "outputs": [
    {
     "data": {
      "text/html": [
       "<div>\n",
       "<style scoped>\n",
       "    .dataframe tbody tr th:only-of-type {\n",
       "        vertical-align: middle;\n",
       "    }\n",
       "\n",
       "    .dataframe tbody tr th {\n",
       "        vertical-align: top;\n",
       "    }\n",
       "\n",
       "    .dataframe thead th {\n",
       "        text-align: right;\n",
       "    }\n",
       "</style>\n",
       "<table border=\"1\" class=\"dataframe\"><caption>Selected Rows from Table VALID_RES_HANXJW</caption>\n",
       "  <thead>\n",
       "    <tr style=\"text-align: right;\">\n",
       "      <th title=\"\"></th>\n",
       "      <th title=\"MedInc\">MedInc</th>\n",
       "      <th title=\"HouseAge\">HouseAge</th>\n",
       "      <th title=\"AveRooms\">AveRooms</th>\n",
       "      <th title=\"AveBedrms\">AveBedrms</th>\n",
       "      <th title=\"Population\">Population</th>\n",
       "      <th title=\"AveOccup\">AveOccup</th>\n",
       "      <th title=\"Latitude\">Latitude</th>\n",
       "      <th title=\"Longitude\">Longitude</th>\n",
       "      <th title=\"house_value\">house_value</th>\n",
       "      <th title=\"P_house_value\">P_house_value</th>\n",
       "    </tr>\n",
       "  </thead>\n",
       "  <tbody>\n",
       "    <tr>\n",
       "      <th>0</th>\n",
       "      <td>8.3252</td>\n",
       "      <td>41.0</td>\n",
       "      <td>6.984127</td>\n",
       "      <td>1.023810</td>\n",
       "      <td>322.0</td>\n",
       "      <td>2.555556</td>\n",
       "      <td>37.88</td>\n",
       "      <td>-122.23</td>\n",
       "      <td>4.526</td>\n",
       "      <td>4.535164</td>\n",
       "    </tr>\n",
       "    <tr>\n",
       "      <th>1</th>\n",
       "      <td>5.6431</td>\n",
       "      <td>52.0</td>\n",
       "      <td>5.817352</td>\n",
       "      <td>1.073059</td>\n",
       "      <td>558.0</td>\n",
       "      <td>2.547945</td>\n",
       "      <td>37.85</td>\n",
       "      <td>-122.25</td>\n",
       "      <td>3.413</td>\n",
       "      <td>3.286820</td>\n",
       "    </tr>\n",
       "    <tr>\n",
       "      <th>2</th>\n",
       "      <td>3.8462</td>\n",
       "      <td>52.0</td>\n",
       "      <td>6.281853</td>\n",
       "      <td>1.081081</td>\n",
       "      <td>565.0</td>\n",
       "      <td>2.181467</td>\n",
       "      <td>37.85</td>\n",
       "      <td>-122.25</td>\n",
       "      <td>3.422</td>\n",
       "      <td>2.716982</td>\n",
       "    </tr>\n",
       "    <tr>\n",
       "      <th>3</th>\n",
       "      <td>4.0368</td>\n",
       "      <td>52.0</td>\n",
       "      <td>4.761658</td>\n",
       "      <td>1.103627</td>\n",
       "      <td>413.0</td>\n",
       "      <td>2.139896</td>\n",
       "      <td>37.85</td>\n",
       "      <td>-122.25</td>\n",
       "      <td>2.697</td>\n",
       "      <td>2.778371</td>\n",
       "    </tr>\n",
       "    <tr>\n",
       "      <th>4</th>\n",
       "      <td>3.6591</td>\n",
       "      <td>52.0</td>\n",
       "      <td>4.931907</td>\n",
       "      <td>0.951362</td>\n",
       "      <td>1094.0</td>\n",
       "      <td>2.128405</td>\n",
       "      <td>37.84</td>\n",
       "      <td>-122.25</td>\n",
       "      <td>2.992</td>\n",
       "      <td>2.745414</td>\n",
       "    </tr>\n",
       "  </tbody>\n",
       "</table>\n",
       "</div>"
      ],
      "text/plain": [
       "Selected Rows from Table VALID_RES_HANXJW\n",
       "\n",
       "   MedInc  HouseAge  AveRooms  AveBedrms  Population  AveOccup  Latitude  \\\n",
       "0  8.3252      41.0  6.984127   1.023810       322.0  2.555556     37.88   \n",
       "1  5.6431      52.0  5.817352   1.073059       558.0  2.547945     37.85   \n",
       "2  3.8462      52.0  6.281853   1.081081       565.0  2.181467     37.85   \n",
       "3  4.0368      52.0  4.761658   1.103627       413.0  2.139896     37.85   \n",
       "4  3.6591      52.0  4.931907   0.951362      1094.0  2.128405     37.84   \n",
       "\n",
       "   Longitude  house_value  P_house_value  \n",
       "0    -122.23        4.526       4.535164  \n",
       "1    -122.25        3.413       3.286820  \n",
       "2    -122.25        3.422       2.716982  \n",
       "3    -122.25        2.697       2.778371  \n",
       "4    -122.25        2.992       2.745414  "
      ]
     },
     "execution_count": 11,
     "metadata": {},
     "output_type": "execute_result"
    }
   ],
   "source": [
    "fitted_table.head()"
   ]
  },
  {
   "cell_type": "code",
   "execution_count": 12,
   "metadata": {},
   "outputs": [
    {
     "name": "stdout",
     "output_type": "stream",
     "text": [
      "the mean squared error is 0.269057\n"
     ]
    }
   ],
   "source": [
    "# Evaluate the MSE using dlpy.metrics.mean_squared_error\n",
    "mse = mean_squared_error(fitted_table, 'house_value', 'P_house_value')\n",
    "print('the mean squared error is {:.6f}'.format(mse))"
   ]
  },
  {
   "cell_type": "code",
   "execution_count": 13,
   "metadata": {},
   "outputs": [
    {
     "name": "stdout",
     "output_type": "stream",
     "text": [
      "the mean absolute error is 0.356973\n"
     ]
    }
   ],
   "source": [
    "# Evaluate the MAE using dlpy.metrics.mean_absolute_error\n",
    "mae = mean_absolute_error(fitted_table, 'house_value', 'P_house_value')\n",
    "print('the mean absolute error is {:.6f}'.format(mae))"
   ]
  },
  {
   "cell_type": "code",
   "execution_count": 14,
   "metadata": {},
   "outputs": [
    {
     "name": "stdout",
     "output_type": "stream",
     "text": [
      "the 79.89% of target variable variance can be explained by the model\n"
     ]
    }
   ],
   "source": [
    "# Evaluate the explained variance score using dlpy.metrics.explained_variance_score\n",
    "evs = explained_variance_score(fitted_table, 'house_value', 'P_house_value')\n",
    "print('the {:.2f}% of target variable variance can be explained by the model'.format(evs*100))"
   ]
  },
  {
   "cell_type": "markdown",
   "metadata": {},
   "source": [
    "#### 8.2 Prediction results"
   ]
  },
  {
   "cell_type": "code",
   "execution_count": 15,
   "metadata": {},
   "outputs": [
    {
     "name": "stdout",
     "output_type": "stream",
     "text": [
      "                         Descr         Value\n",
      "0  Number of Observations Read          4128\n",
      "1  Number of Observations Used          4128\n",
      "2           Mean Squared Error      0.281723\n",
      "3                   Loss Error      0.140862\n"
     ]
    }
   ],
   "source": [
    "test_result = model1.predict(test_tbl)\n",
    "test_result_table  = model1.valid_res_tbl\n",
    "print(test_result['ScoreInfo'])"
   ]
  },
  {
   "cell_type": "code",
   "execution_count": 16,
   "metadata": {},
   "outputs": [
    {
     "data": {
      "text/html": [
       "<div>\n",
       "<style scoped>\n",
       "    .dataframe tbody tr th:only-of-type {\n",
       "        vertical-align: middle;\n",
       "    }\n",
       "\n",
       "    .dataframe tbody tr th {\n",
       "        vertical-align: top;\n",
       "    }\n",
       "\n",
       "    .dataframe thead th {\n",
       "        text-align: right;\n",
       "    }\n",
       "</style>\n",
       "<table border=\"1\" class=\"dataframe\"><caption>Selected Rows from Table VALID_RES_HANXJW</caption>\n",
       "  <thead>\n",
       "    <tr style=\"text-align: right;\">\n",
       "      <th title=\"\"></th>\n",
       "      <th title=\"MedInc\">MedInc</th>\n",
       "      <th title=\"HouseAge\">HouseAge</th>\n",
       "      <th title=\"AveRooms\">AveRooms</th>\n",
       "      <th title=\"AveBedrms\">AveBedrms</th>\n",
       "      <th title=\"Population\">Population</th>\n",
       "      <th title=\"AveOccup\">AveOccup</th>\n",
       "      <th title=\"Latitude\">Latitude</th>\n",
       "      <th title=\"Longitude\">Longitude</th>\n",
       "      <th title=\"house_value\">house_value</th>\n",
       "      <th title=\"P_house_value\">P_house_value</th>\n",
       "    </tr>\n",
       "  </thead>\n",
       "  <tbody>\n",
       "    <tr>\n",
       "      <th>0</th>\n",
       "      <td>8.3014</td>\n",
       "      <td>21.0</td>\n",
       "      <td>6.238137</td>\n",
       "      <td>0.971880</td>\n",
       "      <td>2401.0</td>\n",
       "      <td>2.109842</td>\n",
       "      <td>37.86</td>\n",
       "      <td>-122.22</td>\n",
       "      <td>3.585</td>\n",
       "      <td>4.770130</td>\n",
       "    </tr>\n",
       "    <tr>\n",
       "      <th>1</th>\n",
       "      <td>7.2574</td>\n",
       "      <td>52.0</td>\n",
       "      <td>8.288136</td>\n",
       "      <td>1.073446</td>\n",
       "      <td>496.0</td>\n",
       "      <td>2.802260</td>\n",
       "      <td>37.85</td>\n",
       "      <td>-122.24</td>\n",
       "      <td>3.521</td>\n",
       "      <td>4.472600</td>\n",
       "    </tr>\n",
       "    <tr>\n",
       "      <th>2</th>\n",
       "      <td>3.1200</td>\n",
       "      <td>52.0</td>\n",
       "      <td>4.797527</td>\n",
       "      <td>1.061824</td>\n",
       "      <td>1157.0</td>\n",
       "      <td>1.788253</td>\n",
       "      <td>37.84</td>\n",
       "      <td>-122.25</td>\n",
       "      <td>2.414</td>\n",
       "      <td>3.227868</td>\n",
       "    </tr>\n",
       "    <tr>\n",
       "      <th>3</th>\n",
       "      <td>2.0804</td>\n",
       "      <td>42.0</td>\n",
       "      <td>4.294118</td>\n",
       "      <td>1.117647</td>\n",
       "      <td>1206.0</td>\n",
       "      <td>2.026891</td>\n",
       "      <td>37.84</td>\n",
       "      <td>-122.26</td>\n",
       "      <td>2.267</td>\n",
       "      <td>1.906570</td>\n",
       "    </tr>\n",
       "    <tr>\n",
       "      <th>4</th>\n",
       "      <td>3.6912</td>\n",
       "      <td>52.0</td>\n",
       "      <td>4.970588</td>\n",
       "      <td>0.990196</td>\n",
       "      <td>1551.0</td>\n",
       "      <td>2.172269</td>\n",
       "      <td>37.84</td>\n",
       "      <td>-122.25</td>\n",
       "      <td>2.611</td>\n",
       "      <td>3.086895</td>\n",
       "    </tr>\n",
       "  </tbody>\n",
       "</table>\n",
       "</div>"
      ],
      "text/plain": [
       "Selected Rows from Table VALID_RES_HANXJW\n",
       "\n",
       "   MedInc  HouseAge  AveRooms  AveBedrms  Population  AveOccup  Latitude  \\\n",
       "0  8.3014      21.0  6.238137   0.971880      2401.0  2.109842     37.86   \n",
       "1  7.2574      52.0  8.288136   1.073446       496.0  2.802260     37.85   \n",
       "2  3.1200      52.0  4.797527   1.061824      1157.0  1.788253     37.84   \n",
       "3  2.0804      42.0  4.294118   1.117647      1206.0  2.026891     37.84   \n",
       "4  3.6912      52.0  4.970588   0.990196      1551.0  2.172269     37.84   \n",
       "\n",
       "   Longitude  house_value  P_house_value  \n",
       "0    -122.22        3.585       4.770130  \n",
       "1    -122.24        3.521       4.472600  \n",
       "2    -122.25        2.414       3.227868  \n",
       "3    -122.26        2.267       1.906570  \n",
       "4    -122.25        2.611       3.086895  "
      ]
     },
     "execution_count": 16,
     "metadata": {},
     "output_type": "execute_result"
    }
   ],
   "source": [
    "test_result_table.head()"
   ]
  },
  {
   "cell_type": "code",
   "execution_count": 17,
   "metadata": {},
   "outputs": [
    {
     "name": "stdout",
     "output_type": "stream",
     "text": [
      "the mean squared error is 0.281723\n"
     ]
    }
   ],
   "source": [
    "# Evaluate the MSE using dlpy.metrics.mean_squared_error\n",
    "mse = mean_squared_error(test_result_table, 'house_value', 'P_house_value')\n",
    "print('the mean squared error is {:.6f}'.format(mse))"
   ]
  },
  {
   "cell_type": "code",
   "execution_count": 18,
   "metadata": {},
   "outputs": [
    {
     "name": "stdout",
     "output_type": "stream",
     "text": [
      "the mean absolute error is 0.361446\n"
     ]
    }
   ],
   "source": [
    "# Evaluate the MAE using dlpy.metrics.mean_absolute_error\n",
    "mae = mean_absolute_error(test_result_table, 'house_value', 'P_house_value')\n",
    "print('the mean absolute error is {:.6f}'.format(mae))"
   ]
  },
  {
   "cell_type": "code",
   "execution_count": 19,
   "metadata": {},
   "outputs": [
    {
     "name": "stdout",
     "output_type": "stream",
     "text": [
      "the 78.64% of target variable variance can be explained by the model\n"
     ]
    }
   ],
   "source": [
    "# Evaluate the explained variance score using dlpy.metrics.explained_variance_score\n",
    "evs = explained_variance_score(test_result_table, 'house_value', 'P_house_value')\n",
    "print('the {:.2f}% of target variable variance can be explained by the model'.format(evs*100))"
   ]
  },
  {
   "cell_type": "markdown",
   "metadata": {},
   "source": [
    "**Note: For more regression related metrics, please see the dlpy.metrics**"
   ]
  }
 ],
 "metadata": {
  "kernelspec": {
   "display_name": "Python 3",
   "language": "python",
   "name": "python3"
  },
  "language_info": {
   "codemirror_mode": {
    "name": "ipython",
    "version": 3
   },
   "file_extension": ".py",
   "mimetype": "text/x-python",
   "name": "python",
   "nbconvert_exporter": "python",
   "pygments_lexer": "ipython3",
   "version": "3.6.2"
  }
 },
 "nbformat": 4,
 "nbformat_minor": 2
}
