{
 "cells": [
  {
   "cell_type": "markdown",
   "metadata": {},
   "source": [
    "# Tabular Data Regression Example"
   ]
  },
  {
   "cell_type": "markdown",
   "metadata": {},
   "source": [
    "In this example, we demonstrate how to use dlpy to build a simple neural network for tabular data regression problems. \n",
    "\n",
    "The california housing dataset we used here is contained in the sklearn package. More details about the data can be found here:https://scikit-learn.org/stable/datasets/index.html#california-housing-dataset\n",
    "\n",
    "Key steps involved:\n",
    "1. Upload data to the server\n",
    "2. Build and train a fully connected feedforward neural network model with dlpy.\n",
    "3. Predict on the testing dataset.\n",
    "4. Evaluate the training and testing loss"
   ]
  },
  {
   "cell_type": "markdown",
   "metadata": {},
   "source": [
    "### 1. Import python modules"
   ]
  },
  {
   "cell_type": "code",
   "execution_count": 1,
   "metadata": {},
   "outputs": [],
   "source": [
    "import pandas as pd\n",
    "import numpy as np\n",
    "import matplotlib.pylab as plt\n",
    "from sklearn.datasets import fetch_california_housing #The dataset is from sklearn package, with version >= 0.20.1\n",
    "from swat.cas import datamsghandlers\n",
    "from swat import CAS, CASTable\n",
    "from dlpy import Model, Sequential\n",
    "from dlpy.model import Optimizer, AdamSolver\n",
    "from dlpy.layers import * \n",
    "%matplotlib inline"
   ]
  },
  {
   "cell_type": "markdown",
   "metadata": {},
   "source": [
    "### 2. Connect to CAS server"
   ]
  },
  {
   "cell_type": "code",
   "execution_count": 2,
   "metadata": {},
   "outputs": [],
   "source": [
    "conn = CAS(host_name, port_number)"
   ]
  },
  {
   "cell_type": "markdown",
   "metadata": {},
   "source": [
    "### 3. Load examples dataset from scikit-learn"
   ]
  },
  {
   "cell_type": "code",
   "execution_count": 3,
   "metadata": {},
   "outputs": [],
   "source": [
    "# load the california housing data\n",
    "california_housing = fetch_california_housing()\n",
    "\n",
    "# Get data into two pandas dataframes for the predictors(ch_x_df) and target(ch_y_df). \n",
    "ch_x_df = pd.DataFrame(california_housing['data'], columns=california_housing['feature_names'])\n",
    "ch_y_df = pd.DataFrame(california_housing['target'], columns=['house_value'])\n",
    "\n",
    "# Concatenate the data into one dataframe\n",
    "ch_df = pd.concat([ch_x_df, ch_y_df], axis=1)"
   ]
  },
  {
   "cell_type": "code",
   "execution_count": 4,
   "metadata": {},
   "outputs": [
    {
     "data": {
      "text/html": [
       "<div>\n",
       "<style scoped>\n",
       "    .dataframe tbody tr th:only-of-type {\n",
       "        vertical-align: middle;\n",
       "    }\n",
       "\n",
       "    .dataframe tbody tr th {\n",
       "        vertical-align: top;\n",
       "    }\n",
       "\n",
       "    .dataframe thead th {\n",
       "        text-align: right;\n",
       "    }\n",
       "</style>\n",
       "<table border=\"1\" class=\"dataframe\">\n",
       "  <thead>\n",
       "    <tr style=\"text-align: right;\">\n",
       "      <th></th>\n",
       "      <th>MedInc</th>\n",
       "      <th>HouseAge</th>\n",
       "      <th>AveRooms</th>\n",
       "      <th>AveBedrms</th>\n",
       "      <th>Population</th>\n",
       "      <th>AveOccup</th>\n",
       "      <th>Latitude</th>\n",
       "      <th>Longitude</th>\n",
       "      <th>house_value</th>\n",
       "    </tr>\n",
       "  </thead>\n",
       "  <tbody>\n",
       "    <tr>\n",
       "      <th>0</th>\n",
       "      <td>8.3252</td>\n",
       "      <td>41.0</td>\n",
       "      <td>6.984127</td>\n",
       "      <td>1.023810</td>\n",
       "      <td>322.0</td>\n",
       "      <td>2.555556</td>\n",
       "      <td>37.88</td>\n",
       "      <td>-122.23</td>\n",
       "      <td>4.526</td>\n",
       "    </tr>\n",
       "    <tr>\n",
       "      <th>1</th>\n",
       "      <td>8.3014</td>\n",
       "      <td>21.0</td>\n",
       "      <td>6.238137</td>\n",
       "      <td>0.971880</td>\n",
       "      <td>2401.0</td>\n",
       "      <td>2.109842</td>\n",
       "      <td>37.86</td>\n",
       "      <td>-122.22</td>\n",
       "      <td>3.585</td>\n",
       "    </tr>\n",
       "    <tr>\n",
       "      <th>2</th>\n",
       "      <td>7.2574</td>\n",
       "      <td>52.0</td>\n",
       "      <td>8.288136</td>\n",
       "      <td>1.073446</td>\n",
       "      <td>496.0</td>\n",
       "      <td>2.802260</td>\n",
       "      <td>37.85</td>\n",
       "      <td>-122.24</td>\n",
       "      <td>3.521</td>\n",
       "    </tr>\n",
       "    <tr>\n",
       "      <th>3</th>\n",
       "      <td>5.6431</td>\n",
       "      <td>52.0</td>\n",
       "      <td>5.817352</td>\n",
       "      <td>1.073059</td>\n",
       "      <td>558.0</td>\n",
       "      <td>2.547945</td>\n",
       "      <td>37.85</td>\n",
       "      <td>-122.25</td>\n",
       "      <td>3.413</td>\n",
       "    </tr>\n",
       "    <tr>\n",
       "      <th>4</th>\n",
       "      <td>3.8462</td>\n",
       "      <td>52.0</td>\n",
       "      <td>6.281853</td>\n",
       "      <td>1.081081</td>\n",
       "      <td>565.0</td>\n",
       "      <td>2.181467</td>\n",
       "      <td>37.85</td>\n",
       "      <td>-122.25</td>\n",
       "      <td>3.422</td>\n",
       "    </tr>\n",
       "    <tr>\n",
       "      <th>5</th>\n",
       "      <td>4.0368</td>\n",
       "      <td>52.0</td>\n",
       "      <td>4.761658</td>\n",
       "      <td>1.103627</td>\n",
       "      <td>413.0</td>\n",
       "      <td>2.139896</td>\n",
       "      <td>37.85</td>\n",
       "      <td>-122.25</td>\n",
       "      <td>2.697</td>\n",
       "    </tr>\n",
       "    <tr>\n",
       "      <th>6</th>\n",
       "      <td>3.6591</td>\n",
       "      <td>52.0</td>\n",
       "      <td>4.931907</td>\n",
       "      <td>0.951362</td>\n",
       "      <td>1094.0</td>\n",
       "      <td>2.128405</td>\n",
       "      <td>37.84</td>\n",
       "      <td>-122.25</td>\n",
       "      <td>2.992</td>\n",
       "    </tr>\n",
       "    <tr>\n",
       "      <th>7</th>\n",
       "      <td>3.1200</td>\n",
       "      <td>52.0</td>\n",
       "      <td>4.797527</td>\n",
       "      <td>1.061824</td>\n",
       "      <td>1157.0</td>\n",
       "      <td>1.788253</td>\n",
       "      <td>37.84</td>\n",
       "      <td>-122.25</td>\n",
       "      <td>2.414</td>\n",
       "    </tr>\n",
       "    <tr>\n",
       "      <th>8</th>\n",
       "      <td>2.0804</td>\n",
       "      <td>42.0</td>\n",
       "      <td>4.294118</td>\n",
       "      <td>1.117647</td>\n",
       "      <td>1206.0</td>\n",
       "      <td>2.026891</td>\n",
       "      <td>37.84</td>\n",
       "      <td>-122.26</td>\n",
       "      <td>2.267</td>\n",
       "    </tr>\n",
       "    <tr>\n",
       "      <th>9</th>\n",
       "      <td>3.6912</td>\n",
       "      <td>52.0</td>\n",
       "      <td>4.970588</td>\n",
       "      <td>0.990196</td>\n",
       "      <td>1551.0</td>\n",
       "      <td>2.172269</td>\n",
       "      <td>37.84</td>\n",
       "      <td>-122.25</td>\n",
       "      <td>2.611</td>\n",
       "    </tr>\n",
       "    <tr>\n",
       "      <th>10</th>\n",
       "      <td>3.2031</td>\n",
       "      <td>52.0</td>\n",
       "      <td>5.477612</td>\n",
       "      <td>1.079602</td>\n",
       "      <td>910.0</td>\n",
       "      <td>2.263682</td>\n",
       "      <td>37.85</td>\n",
       "      <td>-122.26</td>\n",
       "      <td>2.815</td>\n",
       "    </tr>\n",
       "  </tbody>\n",
       "</table>\n",
       "</div>"
      ],
      "text/plain": [
       "    MedInc  HouseAge  AveRooms  AveBedrms  Population  AveOccup  Latitude  \\\n",
       "0   8.3252      41.0  6.984127   1.023810       322.0  2.555556     37.88   \n",
       "1   8.3014      21.0  6.238137   0.971880      2401.0  2.109842     37.86   \n",
       "2   7.2574      52.0  8.288136   1.073446       496.0  2.802260     37.85   \n",
       "3   5.6431      52.0  5.817352   1.073059       558.0  2.547945     37.85   \n",
       "4   3.8462      52.0  6.281853   1.081081       565.0  2.181467     37.85   \n",
       "5   4.0368      52.0  4.761658   1.103627       413.0  2.139896     37.85   \n",
       "6   3.6591      52.0  4.931907   0.951362      1094.0  2.128405     37.84   \n",
       "7   3.1200      52.0  4.797527   1.061824      1157.0  1.788253     37.84   \n",
       "8   2.0804      42.0  4.294118   1.117647      1206.0  2.026891     37.84   \n",
       "9   3.6912      52.0  4.970588   0.990196      1551.0  2.172269     37.84   \n",
       "10  3.2031      52.0  5.477612   1.079602       910.0  2.263682     37.85   \n",
       "\n",
       "    Longitude  house_value  \n",
       "0     -122.23        4.526  \n",
       "1     -122.22        3.585  \n",
       "2     -122.24        3.521  \n",
       "3     -122.25        3.413  \n",
       "4     -122.25        3.422  \n",
       "5     -122.25        2.697  \n",
       "6     -122.25        2.992  \n",
       "7     -122.25        2.414  \n",
       "8     -122.26        2.267  \n",
       "9     -122.25        2.611  \n",
       "10    -122.26        2.815  "
      ]
     },
     "execution_count": 4,
     "metadata": {},
     "output_type": "execute_result"
    }
   ],
   "source": [
    "ch_df.loc[:10]"
   ]
  },
  {
   "cell_type": "markdown",
   "metadata": {},
   "source": [
    "### 4. Upload the pandas dataframe to server"
   ]
  },
  {
   "cell_type": "code",
   "execution_count": 5,
   "metadata": {},
   "outputs": [],
   "source": [
    "handler = datamsghandlers.PandasDataFrame(ch_df)\n",
    "conn.addtable(table='ch_df', replace=True, **handler.args.addtable)\n",
    "tbl = conn.CASTable(name='ch_df')"
   ]
  },
  {
   "cell_type": "markdown",
   "metadata": {},
   "source": [
    "### 5. Split the data in CAS"
   ]
  },
  {
   "cell_type": "markdown",
   "metadata": {},
   "source": [
    "Here we show the train-test spliting using the 'sampling' action in CAS. It is a preferred method, if the data is large and hosted on the server side. "
   ]
  },
  {
   "cell_type": "code",
   "execution_count": 6,
   "metadata": {},
   "outputs": [
    {
     "name": "stdout",
     "output_type": "stream",
     "text": [
      "NOTE: Using SEED=1234 for sampling.\n"
     ]
    }
   ],
   "source": [
    "# load the sampling action set\n",
    "conn.loadactionset(actionSet='sampling', _messagelevel='error')\n",
    "\n",
    "# do random sampling, and add a new ('partind') column to the original table.\n",
    "# partind column have randomly selected 20% entries marked as indicator 1 for testing, \n",
    "# and the rest 80% are marked as 0 for training\n",
    "sample_result = conn.sampling.srs(tbl, sampPct=20, \n",
    "                                  partInd=True, seed=1234,\n",
    "                                  output={'casOut':{'name':tbl.name, 'replace':True}, \n",
    "                                          'copyVars':'ALL', 'partIndName':'partind'})\n",
    "\n",
    "# get the train and test dataset\n",
    "train_tbl = tbl.query('partind = 0')\n",
    "test_tbl = tbl.query('partind = 1')"
   ]
  },
  {
   "cell_type": "markdown",
   "metadata": {},
   "source": [
    "### 6. Build two layer fully connected neural network"
   ]
  },
  {
   "cell_type": "markdown",
   "metadata": {},
   "source": [
    "Network specifications:\n",
    "1. One dense layer\n",
    "2. Activation function: relu\n",
    "3. Number of layers: 2\n",
    "3. Number of neurons: first layer with 30 neurons and second layer with 10 neurons.\n",
    "4. Output layer activation function: identity.\n",
    "5. Output layer loss function: normal error (squred loss)."
   ]
  },
  {
   "cell_type": "code",
   "execution_count": 7,
   "metadata": {
    "scrolled": true
   },
   "outputs": [
    {
     "name": "stdout",
     "output_type": "stream",
     "text": [
      "NOTE: Input layer added.\n",
      "NOTE: Fully-connected layer added.\n",
      "NOTE: Fully-connected layer added.\n",
      "NOTE: Output layer added.\n",
      "NOTE: Model compiled successfully.\n"
     ]
    }
   ],
   "source": [
    "model1 = Sequential(conn, model_table='Simple_DNN1')\n",
    "model1.add(InputLayer(std='STD'))\n",
    "model1.add(Dense(30, act='relu'))\n",
    "model1.add(Dense(10, act='relu'))\n",
    "model1.add(OutputLayer(act='identity', error='normal')) "
   ]
  },
  {
   "cell_type": "markdown",
   "metadata": {},
   "source": [
    "### 7. Train fully connected neural network"
   ]
  },
  {
   "cell_type": "markdown",
   "metadata": {},
   "source": [
    "Here we specify the optimizer to show a **scheduled training approach** (polynomial decay. The classification example shows a case using stepwise decay learning policy):\n",
    "\n",
    "We use `learning_rate_policy='poly'` to specify polynomial learning rate decreasing policy. The power is `power=0.5`, which means the learning rate follows the function $initial\\_learning\\_rate*(1 - \\frac{epoch}{max\\_epochs})^{power}$. In addition, we set `log_level=2` to visualize the training log."
   ]
  },
  {
   "cell_type": "code",
   "execution_count": 8,
   "metadata": {
    "scrolled": false
   },
   "outputs": [
    {
     "name": "stdout",
     "output_type": "stream",
     "text": [
      "NOTE: Training from scratch.\n",
      "NOTE:  The Synchronous mode is enabled.\n",
      "NOTE:  The total number of parameters is 591.\n",
      "NOTE:  The approximate memory cost is 1.00 MB.\n",
      "NOTE:  Loading weights cost       0.00 (s).\n",
      "NOTE:  Initializing each layer cost       0.00 (s).\n",
      "NOTE:  The total number of threads on each worker is 32.\n",
      "NOTE:  The total mini-batch size per thread on each worker is 4.\n",
      "NOTE:  The maximum mini-batch size across all workers for the synchronous mode is 128.\n",
      "NOTE:  Target variable: house_value\n",
      "NOTE:  Number of input variables:     8\n",
      "NOTE:  Number of numeric input variables:      8\n",
      "NOTE:  Epoch Learning Rate        Loss  Fit Error   Time(s)\n",
      "NOTE:  0         0.001           1.315      2.629     0.02\n",
      "NOTE:  1         0.001          0.3881     0.7761     0.02\n",
      "NOTE:  2         0.001          0.3095      0.619     0.02\n",
      "NOTE:  3         0.001          0.2545      0.509     0.02\n",
      "NOTE:  4         0.001          0.2249     0.4498     0.02\n",
      "NOTE:  5        0.0009          0.2108     0.4215     0.02\n",
      "NOTE:  6        0.0009          0.2033     0.4066     0.02\n",
      "NOTE:  7        0.0009          0.1992     0.3984     0.02\n",
      "NOTE:  8        0.0009          0.1947     0.3893     0.02\n",
      "NOTE:  9        0.0009          0.1921     0.3843     0.02\n",
      "NOTE:  10       0.0009          0.1885     0.3771     0.02\n",
      "NOTE:  11       0.0009          0.1866     0.3732     0.02\n",
      "NOTE:  12       0.0009          0.1836     0.3671     0.02\n",
      "NOTE:  13       0.0009          0.1819     0.3638     0.02\n",
      "NOTE:  14       0.0008          0.1793     0.3586     0.02\n",
      "NOTE:  15       0.0008          0.1779     0.3557     0.02\n",
      "NOTE:  16       0.0008          0.1766     0.3531     0.02\n",
      "NOTE:  17       0.0008          0.1747     0.3494     0.02\n",
      "NOTE:  18       0.0008          0.1732     0.3464     0.02\n",
      "NOTE:  19       0.0008          0.1721     0.3442     0.02\n",
      "NOTE:  20       0.0008          0.1707     0.3413     0.02\n",
      "NOTE:  21       0.0008          0.1696     0.3392     0.02\n",
      "NOTE:  22       0.0007          0.1681     0.3362     0.02\n",
      "NOTE:  23       0.0007          0.1667     0.3335     0.02\n",
      "NOTE:  24       0.0007          0.1656     0.3313     0.02\n",
      "NOTE:  25       0.0007          0.1646     0.3292     0.02\n",
      "NOTE:  26       0.0007          0.1637     0.3273     0.02\n",
      "NOTE:  27       0.0007          0.1626     0.3251     0.02\n",
      "NOTE:  28       0.0007          0.1616     0.3233     0.02\n",
      "NOTE:  29       0.0006          0.1607     0.3214     0.02\n",
      "NOTE:  30       0.0006          0.1598     0.3197     0.02\n",
      "NOTE:  31       0.0006          0.1588     0.3176     0.02\n",
      "NOTE:  32       0.0006          0.1587     0.3173     0.02\n",
      "NOTE:  33       0.0006          0.1608     0.3215     0.02\n",
      "NOTE:  34       0.0006          0.1581     0.3162     0.02\n",
      "NOTE:  35       0.0005          0.1591     0.3181     0.02\n",
      "NOTE:  36       0.0005          0.1567     0.3135     0.02\n",
      "NOTE:  37       0.0005          0.1571     0.3142     0.02\n",
      "NOTE:  38       0.0005          0.1552     0.3104     0.02\n",
      "NOTE:  39       0.0005          0.1554     0.3108     0.02\n",
      "NOTE:  40       0.0004          0.1542     0.3084     0.02\n",
      "NOTE:  41       0.0004          0.1544     0.3088     0.02\n",
      "NOTE:  42       0.0004          0.1535     0.3071     0.02\n",
      "NOTE:  43       0.0004          0.1536     0.3073     0.02\n",
      "NOTE:  44       0.0003          0.1531     0.3061     0.03\n",
      "NOTE:  45       0.0003          0.1531     0.3062     0.02\n",
      "NOTE:  46       0.0003          0.1528     0.3055     0.02\n",
      "NOTE:  47       0.0002          0.1528     0.3056     0.02\n",
      "NOTE:  48       0.0002          0.1527     0.3053     0.02\n",
      "NOTE:  49       0.0001          0.1528     0.3056     0.02\n",
      "NOTE:  The optimization reached the maximum number of epochs.\n",
      "NOTE:  The total time is       0.87 (s).\n"
     ]
    }
   ],
   "source": [
    "optimizer = Optimizer(algorithm=AdamSolver(learning_rate=0.001, learning_rate_policy='poly', power=0.5),\n",
    "                      mini_batch_size=4, seed=1234, max_epochs=50, log_level=2)\n",
    "\n",
    "result = model1.fit(train_tbl, inputs=ch_x_df.columns.tolist(), target='house_value', optimizer=optimizer)"
   ]
  },
  {
   "cell_type": "code",
   "execution_count": 9,
   "metadata": {},
   "outputs": [
    {
     "data": {
      "image/png": "[encoded data removed]",
      "text/plain": [
       "<matplotlib.figure.Figure at 0x176294e1da0>"
      ]
     },
     "metadata": {},
     "output_type": "display_data"
    }
   ],
   "source": [
    "# Plot the training history.\n",
    "model1.plot_training_history()"
   ]
  },
  {
   "cell_type": "markdown",
   "metadata": {},
   "source": [
    "### 8. Show fitted and testing result"
   ]
  },
  {
   "cell_type": "code",
   "execution_count": 10,
   "metadata": {},
   "outputs": [
    {
     "name": "stdout",
     "output_type": "stream",
     "text": [
      "                         Descr         Value\n",
      "0  Number of Observations Read         16512\n",
      "1  Number of Observations Used         16512\n",
      "2           Mean Squared Error      0.305471\n",
      "3                   Loss Error      0.152735\n"
     ]
    }
   ],
   "source": [
    "fitted_result = model1.predict(train_tbl)\n",
    "print(fitted_result['ScoreInfo'])"
   ]
  },
  {
   "cell_type": "code",
   "execution_count": 11,
   "metadata": {},
   "outputs": [
    {
     "name": "stdout",
     "output_type": "stream",
     "text": [
      "                         Descr         Value\n",
      "0  Number of Observations Read          4128\n",
      "1  Number of Observations Used          4128\n",
      "2           Mean Squared Error      0.294407\n",
      "3                   Loss Error      0.147203\n"
     ]
    }
   ],
   "source": [
    "test_result = model1.predict(test_tbl)\n",
    "test_table = model1.valid_res_tbl\n",
    "print(test_result['ScoreInfo'])"
   ]
  }
 ],
 "metadata": {
  "kernelspec": {
   "display_name": "Python 3",
   "language": "python",
   "name": "python3"
  },
  "language_info": {
   "codemirror_mode": {
    "name": "ipython",
    "version": 3
   },
   "file_extension": ".py",
   "mimetype": "text/x-python",
   "name": "python",
   "nbconvert_exporter": "python",
   "pygments_lexer": "ipython3",
   "version": "3.6.2"
  }
 },
 "nbformat": 4,
 "nbformat_minor": 2
}
