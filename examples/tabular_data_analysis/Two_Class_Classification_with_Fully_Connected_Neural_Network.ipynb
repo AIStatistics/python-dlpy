{
 "cells": [
  {
   "cell_type": "markdown",
   "metadata": {},
   "source": [
    "# Tabular Data Classification Example"
   ]
  },
  {
   "cell_type": "markdown",
   "metadata": {},
   "source": [
    "In this example, we demonstrate how to use dlpy to build a simple neural network for tabular data classification problems. \n",
    "\n",
    "The breast cancer dataset we used here is contained in the sklearn package. More details about the data can be found here:https://scikit-learn.org/stable/datasets/index.html#breast-cancer-dataset\n",
    "\n",
    "Key steps involved:\n",
    "1. Upload data to the server\n",
    "2. Build and train a fully connected feedforward neural network model with dlpy.\n",
    "3. Predict on the testing dataset.\n",
    "4. Evaluate confusion matrix\n",
    "5. Assess and visualize ROC curve, calculate Area under the curve(AUC). \n",
    "6. Evaluate precision recall curve, f1 score and average precision score. "
   ]
  },
  {
   "cell_type": "markdown",
   "metadata": {},
   "source": [
    "### 1. Import python modules"
   ]
  },
  {
   "cell_type": "code",
   "execution_count": 1,
   "metadata": {},
   "outputs": [],
   "source": [
    "import pandas as pd\n",
    "import numpy as np\n",
    "import matplotlib.pylab as plt\n",
    "from sklearn.datasets import load_breast_cancer #The dataset is from sklearn package, with version >= 0.20.1\n",
    "from swat.cas import datamsghandlers\n",
    "from swat import CAS, CASTable\n",
    "from dlpy import Model, Sequential\n",
    "from dlpy.model import Optimizer, AdamSolver\n",
    "from dlpy.layers import * \n",
    "from dlpy.splitting import two_way_split\n",
    "from dlpy.metrics import (accuracy_score, confusion_matrix, plot_roc, \n",
    "                          plot_precision_recall, roc_auc_score, f1_score, average_precision_score)\n",
    "%matplotlib inline"
   ]
  },
  {
   "cell_type": "markdown",
   "metadata": {},
   "source": [
    "### 2. Connect to CAS server"
   ]
  },
  {
   "cell_type": "code",
   "execution_count": 2,
   "metadata": {},
   "outputs": [],
   "source": [
    "conn = CAS(host_name, port_number)"
   ]
  },
  {
   "cell_type": "markdown",
   "metadata": {},
   "source": [
    "### 3. Load examples dataset from scikit-learn"
   ]
  },
  {
   "cell_type": "code",
   "execution_count": 3,
   "metadata": {},
   "outputs": [],
   "source": [
    "# load the breast cancer data\n",
    "bc_data = load_breast_cancer() \n",
    "\n",
    "# Get data into two pandas dataframes for the predictors(bc_x_df) and target(bc_y_df). \n",
    "bc_x_df = pd.DataFrame(bc_data['data'], columns=bc_data['feature_names'])\n",
    "bc_y_df = pd.DataFrame(bc_data['target'], columns=['target_class'])\n",
    "\n",
    "# Concatenate the data into one dataframe\n",
    "bc_df = pd.concat([bc_x_df, bc_y_df], axis=1)"
   ]
  },
  {
   "cell_type": "code",
   "execution_count": 4,
   "metadata": {},
   "outputs": [
    {
     "data": {
      "text/html": [
       "<div>\n",
       "<style scoped>\n",
       "    .dataframe tbody tr th:only-of-type {\n",
       "        vertical-align: middle;\n",
       "    }\n",
       "\n",
       "    .dataframe tbody tr th {\n",
       "        vertical-align: top;\n",
       "    }\n",
       "\n",
       "    .dataframe thead th {\n",
       "        text-align: right;\n",
       "    }\n",
       "</style>\n",
       "<table border=\"1\" class=\"dataframe\">\n",
       "  <thead>\n",
       "    <tr style=\"text-align: right;\">\n",
       "      <th></th>\n",
       "      <th>mean radius</th>\n",
       "      <th>mean texture</th>\n",
       "      <th>mean perimeter</th>\n",
       "      <th>mean area</th>\n",
       "      <th>mean smoothness</th>\n",
       "      <th>mean compactness</th>\n",
       "      <th>mean concavity</th>\n",
       "      <th>mean concave points</th>\n",
       "      <th>mean symmetry</th>\n",
       "      <th>mean fractal dimension</th>\n",
       "      <th>...</th>\n",
       "      <th>worst texture</th>\n",
       "      <th>worst perimeter</th>\n",
       "      <th>worst area</th>\n",
       "      <th>worst smoothness</th>\n",
       "      <th>worst compactness</th>\n",
       "      <th>worst concavity</th>\n",
       "      <th>worst concave points</th>\n",
       "      <th>worst symmetry</th>\n",
       "      <th>worst fractal dimension</th>\n",
       "      <th>target_class</th>\n",
       "    </tr>\n",
       "  </thead>\n",
       "  <tbody>\n",
       "    <tr>\n",
       "      <th>0</th>\n",
       "      <td>17.99</td>\n",
       "      <td>10.38</td>\n",
       "      <td>122.80</td>\n",
       "      <td>1001.0</td>\n",
       "      <td>0.11840</td>\n",
       "      <td>0.27760</td>\n",
       "      <td>0.30010</td>\n",
       "      <td>0.14710</td>\n",
       "      <td>0.2419</td>\n",
       "      <td>0.07871</td>\n",
       "      <td>...</td>\n",
       "      <td>17.33</td>\n",
       "      <td>184.60</td>\n",
       "      <td>2019.0</td>\n",
       "      <td>0.1622</td>\n",
       "      <td>0.6656</td>\n",
       "      <td>0.7119</td>\n",
       "      <td>0.26540</td>\n",
       "      <td>0.4601</td>\n",
       "      <td>0.11890</td>\n",
       "      <td>0</td>\n",
       "    </tr>\n",
       "    <tr>\n",
       "      <th>1</th>\n",
       "      <td>20.57</td>\n",
       "      <td>17.77</td>\n",
       "      <td>132.90</td>\n",
       "      <td>1326.0</td>\n",
       "      <td>0.08474</td>\n",
       "      <td>0.07864</td>\n",
       "      <td>0.08690</td>\n",
       "      <td>0.07017</td>\n",
       "      <td>0.1812</td>\n",
       "      <td>0.05667</td>\n",
       "      <td>...</td>\n",
       "      <td>23.41</td>\n",
       "      <td>158.80</td>\n",
       "      <td>1956.0</td>\n",
       "      <td>0.1238</td>\n",
       "      <td>0.1866</td>\n",
       "      <td>0.2416</td>\n",
       "      <td>0.18600</td>\n",
       "      <td>0.2750</td>\n",
       "      <td>0.08902</td>\n",
       "      <td>0</td>\n",
       "    </tr>\n",
       "    <tr>\n",
       "      <th>2</th>\n",
       "      <td>19.69</td>\n",
       "      <td>21.25</td>\n",
       "      <td>130.00</td>\n",
       "      <td>1203.0</td>\n",
       "      <td>0.10960</td>\n",
       "      <td>0.15990</td>\n",
       "      <td>0.19740</td>\n",
       "      <td>0.12790</td>\n",
       "      <td>0.2069</td>\n",
       "      <td>0.05999</td>\n",
       "      <td>...</td>\n",
       "      <td>25.53</td>\n",
       "      <td>152.50</td>\n",
       "      <td>1709.0</td>\n",
       "      <td>0.1444</td>\n",
       "      <td>0.4245</td>\n",
       "      <td>0.4504</td>\n",
       "      <td>0.24300</td>\n",
       "      <td>0.3613</td>\n",
       "      <td>0.08758</td>\n",
       "      <td>0</td>\n",
       "    </tr>\n",
       "    <tr>\n",
       "      <th>3</th>\n",
       "      <td>11.42</td>\n",
       "      <td>20.38</td>\n",
       "      <td>77.58</td>\n",
       "      <td>386.1</td>\n",
       "      <td>0.14250</td>\n",
       "      <td>0.28390</td>\n",
       "      <td>0.24140</td>\n",
       "      <td>0.10520</td>\n",
       "      <td>0.2597</td>\n",
       "      <td>0.09744</td>\n",
       "      <td>...</td>\n",
       "      <td>26.50</td>\n",
       "      <td>98.87</td>\n",
       "      <td>567.7</td>\n",
       "      <td>0.2098</td>\n",
       "      <td>0.8663</td>\n",
       "      <td>0.6869</td>\n",
       "      <td>0.25750</td>\n",
       "      <td>0.6638</td>\n",
       "      <td>0.17300</td>\n",
       "      <td>0</td>\n",
       "    </tr>\n",
       "    <tr>\n",
       "      <th>4</th>\n",
       "      <td>20.29</td>\n",
       "      <td>14.34</td>\n",
       "      <td>135.10</td>\n",
       "      <td>1297.0</td>\n",
       "      <td>0.10030</td>\n",
       "      <td>0.13280</td>\n",
       "      <td>0.19800</td>\n",
       "      <td>0.10430</td>\n",
       "      <td>0.1809</td>\n",
       "      <td>0.05883</td>\n",
       "      <td>...</td>\n",
       "      <td>16.67</td>\n",
       "      <td>152.20</td>\n",
       "      <td>1575.0</td>\n",
       "      <td>0.1374</td>\n",
       "      <td>0.2050</td>\n",
       "      <td>0.4000</td>\n",
       "      <td>0.16250</td>\n",
       "      <td>0.2364</td>\n",
       "      <td>0.07678</td>\n",
       "      <td>0</td>\n",
       "    </tr>\n",
       "    <tr>\n",
       "      <th>5</th>\n",
       "      <td>12.45</td>\n",
       "      <td>15.70</td>\n",
       "      <td>82.57</td>\n",
       "      <td>477.1</td>\n",
       "      <td>0.12780</td>\n",
       "      <td>0.17000</td>\n",
       "      <td>0.15780</td>\n",
       "      <td>0.08089</td>\n",
       "      <td>0.2087</td>\n",
       "      <td>0.07613</td>\n",
       "      <td>...</td>\n",
       "      <td>23.75</td>\n",
       "      <td>103.40</td>\n",
       "      <td>741.6</td>\n",
       "      <td>0.1791</td>\n",
       "      <td>0.5249</td>\n",
       "      <td>0.5355</td>\n",
       "      <td>0.17410</td>\n",
       "      <td>0.3985</td>\n",
       "      <td>0.12440</td>\n",
       "      <td>0</td>\n",
       "    </tr>\n",
       "    <tr>\n",
       "      <th>6</th>\n",
       "      <td>18.25</td>\n",
       "      <td>19.98</td>\n",
       "      <td>119.60</td>\n",
       "      <td>1040.0</td>\n",
       "      <td>0.09463</td>\n",
       "      <td>0.10900</td>\n",
       "      <td>0.11270</td>\n",
       "      <td>0.07400</td>\n",
       "      <td>0.1794</td>\n",
       "      <td>0.05742</td>\n",
       "      <td>...</td>\n",
       "      <td>27.66</td>\n",
       "      <td>153.20</td>\n",
       "      <td>1606.0</td>\n",
       "      <td>0.1442</td>\n",
       "      <td>0.2576</td>\n",
       "      <td>0.3784</td>\n",
       "      <td>0.19320</td>\n",
       "      <td>0.3063</td>\n",
       "      <td>0.08368</td>\n",
       "      <td>0</td>\n",
       "    </tr>\n",
       "    <tr>\n",
       "      <th>7</th>\n",
       "      <td>13.71</td>\n",
       "      <td>20.83</td>\n",
       "      <td>90.20</td>\n",
       "      <td>577.9</td>\n",
       "      <td>0.11890</td>\n",
       "      <td>0.16450</td>\n",
       "      <td>0.09366</td>\n",
       "      <td>0.05985</td>\n",
       "      <td>0.2196</td>\n",
       "      <td>0.07451</td>\n",
       "      <td>...</td>\n",
       "      <td>28.14</td>\n",
       "      <td>110.60</td>\n",
       "      <td>897.0</td>\n",
       "      <td>0.1654</td>\n",
       "      <td>0.3682</td>\n",
       "      <td>0.2678</td>\n",
       "      <td>0.15560</td>\n",
       "      <td>0.3196</td>\n",
       "      <td>0.11510</td>\n",
       "      <td>0</td>\n",
       "    </tr>\n",
       "    <tr>\n",
       "      <th>8</th>\n",
       "      <td>13.00</td>\n",
       "      <td>21.82</td>\n",
       "      <td>87.50</td>\n",
       "      <td>519.8</td>\n",
       "      <td>0.12730</td>\n",
       "      <td>0.19320</td>\n",
       "      <td>0.18590</td>\n",
       "      <td>0.09353</td>\n",
       "      <td>0.2350</td>\n",
       "      <td>0.07389</td>\n",
       "      <td>...</td>\n",
       "      <td>30.73</td>\n",
       "      <td>106.20</td>\n",
       "      <td>739.3</td>\n",
       "      <td>0.1703</td>\n",
       "      <td>0.5401</td>\n",
       "      <td>0.5390</td>\n",
       "      <td>0.20600</td>\n",
       "      <td>0.4378</td>\n",
       "      <td>0.10720</td>\n",
       "      <td>0</td>\n",
       "    </tr>\n",
       "    <tr>\n",
       "      <th>9</th>\n",
       "      <td>12.46</td>\n",
       "      <td>24.04</td>\n",
       "      <td>83.97</td>\n",
       "      <td>475.9</td>\n",
       "      <td>0.11860</td>\n",
       "      <td>0.23960</td>\n",
       "      <td>0.22730</td>\n",
       "      <td>0.08543</td>\n",
       "      <td>0.2030</td>\n",
       "      <td>0.08243</td>\n",
       "      <td>...</td>\n",
       "      <td>40.68</td>\n",
       "      <td>97.65</td>\n",
       "      <td>711.4</td>\n",
       "      <td>0.1853</td>\n",
       "      <td>1.0580</td>\n",
       "      <td>1.1050</td>\n",
       "      <td>0.22100</td>\n",
       "      <td>0.4366</td>\n",
       "      <td>0.20750</td>\n",
       "      <td>0</td>\n",
       "    </tr>\n",
       "    <tr>\n",
       "      <th>10</th>\n",
       "      <td>16.02</td>\n",
       "      <td>23.24</td>\n",
       "      <td>102.70</td>\n",
       "      <td>797.8</td>\n",
       "      <td>0.08206</td>\n",
       "      <td>0.06669</td>\n",
       "      <td>0.03299</td>\n",
       "      <td>0.03323</td>\n",
       "      <td>0.1528</td>\n",
       "      <td>0.05697</td>\n",
       "      <td>...</td>\n",
       "      <td>33.88</td>\n",
       "      <td>123.80</td>\n",
       "      <td>1150.0</td>\n",
       "      <td>0.1181</td>\n",
       "      <td>0.1551</td>\n",
       "      <td>0.1459</td>\n",
       "      <td>0.09975</td>\n",
       "      <td>0.2948</td>\n",
       "      <td>0.08452</td>\n",
       "      <td>0</td>\n",
       "    </tr>\n",
       "  </tbody>\n",
       "</table>\n",
       "<p>11 rows × 31 columns</p>\n",
       "</div>"
      ],
      "text/plain": [
       "    mean radius  mean texture  mean perimeter  mean area  mean smoothness  \\\n",
       "0         17.99         10.38          122.80     1001.0          0.11840   \n",
       "1         20.57         17.77          132.90     1326.0          0.08474   \n",
       "2         19.69         21.25          130.00     1203.0          0.10960   \n",
       "3         11.42         20.38           77.58      386.1          0.14250   \n",
       "4         20.29         14.34          135.10     1297.0          0.10030   \n",
       "5         12.45         15.70           82.57      477.1          0.12780   \n",
       "6         18.25         19.98          119.60     1040.0          0.09463   \n",
       "7         13.71         20.83           90.20      577.9          0.11890   \n",
       "8         13.00         21.82           87.50      519.8          0.12730   \n",
       "9         12.46         24.04           83.97      475.9          0.11860   \n",
       "10        16.02         23.24          102.70      797.8          0.08206   \n",
       "\n",
       "    mean compactness  mean concavity  mean concave points  mean symmetry  \\\n",
       "0            0.27760         0.30010              0.14710         0.2419   \n",
       "1            0.07864         0.08690              0.07017         0.1812   \n",
       "2            0.15990         0.19740              0.12790         0.2069   \n",
       "3            0.28390         0.24140              0.10520         0.2597   \n",
       "4            0.13280         0.19800              0.10430         0.1809   \n",
       "5            0.17000         0.15780              0.08089         0.2087   \n",
       "6            0.10900         0.11270              0.07400         0.1794   \n",
       "7            0.16450         0.09366              0.05985         0.2196   \n",
       "8            0.19320         0.18590              0.09353         0.2350   \n",
       "9            0.23960         0.22730              0.08543         0.2030   \n",
       "10           0.06669         0.03299              0.03323         0.1528   \n",
       "\n",
       "    mean fractal dimension      ...       worst texture  worst perimeter  \\\n",
       "0                  0.07871      ...               17.33           184.60   \n",
       "1                  0.05667      ...               23.41           158.80   \n",
       "2                  0.05999      ...               25.53           152.50   \n",
       "3                  0.09744      ...               26.50            98.87   \n",
       "4                  0.05883      ...               16.67           152.20   \n",
       "5                  0.07613      ...               23.75           103.40   \n",
       "6                  0.05742      ...               27.66           153.20   \n",
       "7                  0.07451      ...               28.14           110.60   \n",
       "8                  0.07389      ...               30.73           106.20   \n",
       "9                  0.08243      ...               40.68            97.65   \n",
       "10                 0.05697      ...               33.88           123.80   \n",
       "\n",
       "    worst area  worst smoothness  worst compactness  worst concavity  \\\n",
       "0       2019.0            0.1622             0.6656           0.7119   \n",
       "1       1956.0            0.1238             0.1866           0.2416   \n",
       "2       1709.0            0.1444             0.4245           0.4504   \n",
       "3        567.7            0.2098             0.8663           0.6869   \n",
       "4       1575.0            0.1374             0.2050           0.4000   \n",
       "5        741.6            0.1791             0.5249           0.5355   \n",
       "6       1606.0            0.1442             0.2576           0.3784   \n",
       "7        897.0            0.1654             0.3682           0.2678   \n",
       "8        739.3            0.1703             0.5401           0.5390   \n",
       "9        711.4            0.1853             1.0580           1.1050   \n",
       "10      1150.0            0.1181             0.1551           0.1459   \n",
       "\n",
       "    worst concave points  worst symmetry  worst fractal dimension  \\\n",
       "0                0.26540          0.4601                  0.11890   \n",
       "1                0.18600          0.2750                  0.08902   \n",
       "2                0.24300          0.3613                  0.08758   \n",
       "3                0.25750          0.6638                  0.17300   \n",
       "4                0.16250          0.2364                  0.07678   \n",
       "5                0.17410          0.3985                  0.12440   \n",
       "6                0.19320          0.3063                  0.08368   \n",
       "7                0.15560          0.3196                  0.11510   \n",
       "8                0.20600          0.4378                  0.10720   \n",
       "9                0.22100          0.4366                  0.20750   \n",
       "10               0.09975          0.2948                  0.08452   \n",
       "\n",
       "    target_class  \n",
       "0              0  \n",
       "1              0  \n",
       "2              0  \n",
       "3              0  \n",
       "4              0  \n",
       "5              0  \n",
       "6              0  \n",
       "7              0  \n",
       "8              0  \n",
       "9              0  \n",
       "10             0  \n",
       "\n",
       "[11 rows x 31 columns]"
      ]
     },
     "execution_count": 4,
     "metadata": {},
     "output_type": "execute_result"
    }
   ],
   "source": [
    "bc_df.loc[:10]"
   ]
  },
  {
   "cell_type": "markdown",
   "metadata": {},
   "source": [
    "There are 212 malignant tumors ('0' in the data), 357 benign tumors ('1' in the data)"
   ]
  },
  {
   "cell_type": "code",
   "execution_count": 5,
   "metadata": {},
   "outputs": [
    {
     "data": {
      "text/plain": [
       "1    357\n",
       "0    212\n",
       "Name: target_class, dtype: int64"
      ]
     },
     "execution_count": 5,
     "metadata": {},
     "output_type": "execute_result"
    }
   ],
   "source": [
    "bc_df.target_class.value_counts()"
   ]
  },
  {
   "cell_type": "markdown",
   "metadata": {},
   "source": [
    "### 4. Upload the pandas dataframe to server"
   ]
  },
  {
   "cell_type": "code",
   "execution_count": 6,
   "metadata": {},
   "outputs": [
    {
     "name": "stdout",
     "output_type": "stream",
     "text": [
      "NOTE: Cloud Analytic Services made the uploaded file available as table BC_DF in caslib CASUSER(ruiliz).\n",
      "NOTE: The table BC_DF has been created in caslib CASUSER(ruiliz) from binary data uploaded to Cloud Analytic Services.\n"
     ]
    }
   ],
   "source": [
    "tbl = conn.upload_frame(bc_df, casout=dict(name='bc_df', replace=True))"
   ]
  },
  {
   "cell_type": "markdown",
   "metadata": {},
   "source": [
    "### 5. Split the data"
   ]
  },
  {
   "cell_type": "markdown",
   "metadata": {},
   "source": [
    "Here we show the train-test spliting using the `two_way_split` function in `dlpy.splitting`. It performs random sampling and split the data into `train_tbl` and `test_tbl` (on the server side). It is perferred over splitting on the local client side when the data is large, or already hosted on the server. "
   ]
  },
  {
   "cell_type": "code",
   "execution_count": 7,
   "metadata": {},
   "outputs": [],
   "source": [
    "train_tbl, test_tbl = two_way_split(tbl, test_rate=30, seed=1234, stratify=False, im_table=False)"
   ]
  },
  {
   "cell_type": "markdown",
   "metadata": {},
   "source": [
    "### 6. Build one layer fully connected neural network"
   ]
  },
  {
   "cell_type": "markdown",
   "metadata": {},
   "source": [
    "Network specifications:\n",
    "1. One dense layer\n",
    "2. Activation function: relu\n",
    "3. Number of neurons: 20\n",
    "4. Output layer loss function: entropy.\n",
    "5. Output layer activation function: softmax (to match with entropy).\n",
    "6. number of neuron in output layer: n=2 (two classes)."
   ]
  },
  {
   "cell_type": "code",
   "execution_count": 8,
   "metadata": {
    "scrolled": true
   },
   "outputs": [
    {
     "name": "stdout",
     "output_type": "stream",
     "text": [
      "NOTE: Input layer added.\n",
      "NOTE: Fully-connected layer added.\n",
      "NOTE: Output layer added.\n",
      "NOTE: Model compiled successfully.\n"
     ]
    }
   ],
   "source": [
    "model1 = Sequential(conn, model_table=CASTable('simple_dnn_classifier', replace=True))\n",
    "model1.add(InputLayer(std='STD'))\n",
    "model1.add(Dense(20, act='relu'))\n",
    "model1.add(OutputLayer(act='softmax', n=2,  error='entropy'))"
   ]
  },
  {
   "cell_type": "markdown",
   "metadata": {},
   "source": [
    "### 7. Train fully connected neural network"
   ]
  },
  {
   "cell_type": "markdown",
   "metadata": {},
   "source": [
    "Here we specify the optimizer to show a **scheduled training approach**:\n",
    "\n",
    "We use `learning_rate_policy='step'` to specify stepwise learning rate decreasing policy. The step size is `step_size=5`, which means every 5 epochs, the `learning_rate` will be multiplied by factor `gamma=0.9`. In addition, we set `log_level=2` to visualize the training log."
   ]
  },
  {
   "cell_type": "code",
   "execution_count": 9,
   "metadata": {
    "scrolled": false
   },
   "outputs": [
    {
     "name": "stdout",
     "output_type": "stream",
     "text": [
      "NOTE: Training from scratch.\n",
      "NOTE:  The Synchronous mode is enabled.\n",
      "NOTE:  The total number of parameters is 662.\n",
      "NOTE:  The approximate memory cost is 1.00 MB.\n",
      "NOTE:  Loading weights cost       0.00 (s).\n",
      "NOTE:  Initializing each layer cost       0.01 (s).\n",
      "NOTE:  The total number of threads on each worker is 32.\n",
      "NOTE:  The total mini-batch size per thread on each worker is 4.\n",
      "NOTE:  The maximum mini-batch size across all workers for the synchronous mode is 128.\n",
      "NOTE:  Target variable: target_class\n",
      "NOTE:  Number of levels for the target variable:      2\n",
      "NOTE:  Levels for the target variable:\n",
      "NOTE:  Level      0:            0\n",
      "NOTE:  Level      1:            1\n",
      "NOTE:  Number of input variables:    30\n",
      "NOTE:  Number of numeric input variables:     30\n",
      "NOTE:  Epoch Learning Rate        Loss  Fit Error   Time(s)\n",
      "NOTE:  0         0.005           1.074     0.6508     0.00\n",
      "NOTE:  1         0.005           0.618     0.3492     0.00\n",
      "NOTE:  2         0.005          0.3906    0.09296     0.00\n",
      "NOTE:  3         0.005          0.2723    0.05528     0.00\n",
      "NOTE:  4         0.005          0.2031    0.05779     0.00\n",
      "NOTE:  5        0.0045          0.1607    0.05025     0.00\n",
      "NOTE:  6        0.0045          0.1351    0.03769     0.00\n",
      "NOTE:  7        0.0045          0.1177    0.03518     0.00\n",
      "NOTE:  8        0.0045          0.1055    0.02764     0.00\n",
      "NOTE:  9        0.0045         0.09667    0.02764     0.00\n",
      "NOTE:  10       0.0041          0.0901    0.02513     0.00\n",
      "NOTE:  11       0.0041         0.08525    0.02764     0.00\n",
      "NOTE:  12       0.0041         0.08115    0.02513     0.00\n",
      "NOTE:  13       0.0041          0.0776    0.02513     0.00\n",
      "NOTE:  14       0.0041         0.07447     0.0201     0.00\n",
      "NOTE:  15       0.0036         0.07176     0.0201     0.00\n",
      "NOTE:  16       0.0036         0.06957    0.01508     0.00\n",
      "NOTE:  17       0.0036         0.06765    0.01759     0.00\n",
      "NOTE:  18       0.0036         0.06595    0.01759     0.00\n",
      "NOTE:  19       0.0036          0.0644    0.01508     0.00\n",
      "NOTE:  20       0.0033           0.063    0.01508     0.00\n",
      "NOTE:  21       0.0033         0.06179    0.01508     0.00\n",
      "NOTE:  22       0.0033         0.06063    0.01508     0.00\n",
      "NOTE:  23       0.0033         0.05944    0.01508     0.00\n",
      "NOTE:  24       0.0033         0.05824    0.01508     0.00\n",
      "NOTE:  25        0.003         0.05711    0.01508     0.00\n",
      "NOTE:  26        0.003         0.05612    0.01508     0.00\n",
      "NOTE:  27        0.003         0.05517    0.01508     0.00\n",
      "NOTE:  28        0.003         0.05425    0.01508     0.00\n",
      "NOTE:  29        0.003         0.05337    0.01508     0.00\n",
      "NOTE:  30       0.0027          0.0525    0.01508     0.00\n",
      "NOTE:  31       0.0027         0.05173    0.01508     0.00\n",
      "NOTE:  32       0.0027           0.051    0.01256     0.00\n",
      "NOTE:  33       0.0027         0.05028    0.01256     0.00\n",
      "NOTE:  34       0.0027         0.04959    0.01256     0.00\n",
      "NOTE:  35       0.0024         0.04892    0.01256     0.00\n",
      "NOTE:  36       0.0024          0.0483    0.01256     0.00\n",
      "NOTE:  37       0.0024          0.0477    0.01256     0.00\n",
      "NOTE:  38       0.0024          0.0471    0.01256     0.00\n",
      "NOTE:  39       0.0024         0.04651    0.01256     0.00\n",
      "NOTE:  40       0.0022         0.04593    0.01256     0.00\n",
      "NOTE:  41       0.0022          0.0454    0.01256     0.00\n",
      "NOTE:  42       0.0022         0.04487    0.01256     0.00\n",
      "NOTE:  43       0.0022         0.04436    0.01256     0.00\n",
      "NOTE:  44       0.0022         0.04384    0.01256     0.00\n",
      "NOTE:  45       0.0019         0.04334    0.01256     0.00\n",
      "NOTE:  46       0.0019         0.04287    0.01256     0.00\n",
      "NOTE:  47       0.0019          0.0424    0.01256     0.00\n",
      "NOTE:  48       0.0019         0.04194    0.01256     0.00\n",
      "NOTE:  49       0.0019         0.04151    0.01256     0.00\n",
      "NOTE:  The optimization reached the maximum number of epochs.\n",
      "NOTE:  The total time is       0.03 (s).\n"
     ]
    }
   ],
   "source": [
    "optimizer = Optimizer(algorithm=AdamSolver(learning_rate=0.005, learning_rate_policy='step', gamma=0.9, step_size=5),\n",
    "                      mini_batch_size=4, seed=1234, max_epochs=50, log_level=2)\n",
    "\n",
    "result = model1.fit(train_tbl, inputs=bc_x_df.columns.tolist(), nominals=['target_class'], \n",
    "           target='target_class', optimizer=optimizer)"
   ]
  },
  {
   "cell_type": "code",
   "execution_count": 10,
   "metadata": {},
   "outputs": [
    {
     "data": {
      "image/png": "[encoded data removed]",
      "text/plain": [
       "<matplotlib.figure.Figure at 0x20d34dec208>"
      ]
     },
     "metadata": {},
     "output_type": "display_data"
    }
   ],
   "source": [
    "# Plot the training history.\n",
    "model1.plot_training_history()"
   ]
  },
  {
   "cell_type": "markdown",
   "metadata": {},
   "source": [
    "### 8. Evaluate testing results with various classification metrics"
   ]
  },
  {
   "cell_type": "markdown",
   "metadata": {},
   "source": [
    "Note: for example simplicity, we just evaluate the testing results. Feel free to check the training result by changing `test_tbl` to `train_tbl`."
   ]
  },
  {
   "cell_type": "code",
   "execution_count": 11,
   "metadata": {},
   "outputs": [
    {
     "name": "stdout",
     "output_type": "stream",
     "text": [
      "NOTE: Due to data distribution, miniBatchSize has been limited to 6.\n"
     ]
    }
   ],
   "source": [
    "test_result = model1.predict(test_tbl)\n",
    "test_result_table = model1.valid_res_tbl"
   ]
  },
  {
   "cell_type": "code",
   "execution_count": 12,
   "metadata": {},
   "outputs": [
    {
     "data": {
      "text/html": [
       "<div>\n",
       "<style scoped>\n",
       "    .dataframe tbody tr th:only-of-type {\n",
       "        vertical-align: middle;\n",
       "    }\n",
       "\n",
       "    .dataframe tbody tr th {\n",
       "        vertical-align: top;\n",
       "    }\n",
       "\n",
       "    .dataframe thead th {\n",
       "        text-align: right;\n",
       "    }\n",
       "</style>\n",
       "<table border=\"1\" class=\"dataframe\"><caption>Selected Rows from Table VALID_RES_TMQGS9</caption>\n",
       "  <thead>\n",
       "    <tr style=\"text-align: right;\">\n",
       "      <th title=\"\"></th>\n",
       "      <th title=\"mean radius\">mean radius</th>\n",
       "      <th title=\"mean texture\">mean texture</th>\n",
       "      <th title=\"mean perimeter\">mean perimeter</th>\n",
       "      <th title=\"mean area\">mean area</th>\n",
       "      <th title=\"mean smoothness\">mean smoothness</th>\n",
       "      <th title=\"mean compactness\">mean compactness</th>\n",
       "      <th title=\"mean concavity\">mean concavity</th>\n",
       "      <th title=\"mean concave points\">mean concave points</th>\n",
       "      <th title=\"mean symmetry\">mean symmetry</th>\n",
       "      <th title=\"mean fractal dimension\">mean fractal dimension</th>\n",
       "      <th title=\"...\">...</th>\n",
       "      <th title=\"worst concavity\">worst concavity</th>\n",
       "      <th title=\"worst concave points\">worst concave points</th>\n",
       "      <th title=\"worst symmetry\">worst symmetry</th>\n",
       "      <th title=\"worst fractal dimension\">worst fractal dimension</th>\n",
       "      <th title=\"target_class\">target_class</th>\n",
       "      <th title=\"Predicted: target_class=0           \">P_target_class0</th>\n",
       "      <th title=\"Predicted: target_class=1           \">P_target_class1</th>\n",
       "      <th title=\"I_target_class\">I_target_class</th>\n",
       "      <th title=\"Highest predicted probability\">_DL_PredP_</th>\n",
       "      <th title=\"Predicted level with highest probability\">_DL_PredLevel_</th>\n",
       "    </tr>\n",
       "  </thead>\n",
       "  <tbody>\n",
       "    <tr>\n",
       "      <th>0</th>\n",
       "      <td>19.69</td>\n",
       "      <td>21.25</td>\n",
       "      <td>130.00</td>\n",
       "      <td>1203.0</td>\n",
       "      <td>0.10960</td>\n",
       "      <td>0.15990</td>\n",
       "      <td>0.19740</td>\n",
       "      <td>0.12790</td>\n",
       "      <td>0.2069</td>\n",
       "      <td>0.05999</td>\n",
       "      <td>...</td>\n",
       "      <td>0.4504</td>\n",
       "      <td>0.24300</td>\n",
       "      <td>0.3613</td>\n",
       "      <td>0.08758</td>\n",
       "      <td>0.0</td>\n",
       "      <td>1.000000</td>\n",
       "      <td>3.492930e-07</td>\n",
       "      <td>0</td>\n",
       "      <td>1.000000</td>\n",
       "      <td>0.0</td>\n",
       "    </tr>\n",
       "    <tr>\n",
       "      <th>1</th>\n",
       "      <td>11.42</td>\n",
       "      <td>20.38</td>\n",
       "      <td>77.58</td>\n",
       "      <td>386.1</td>\n",
       "      <td>0.14250</td>\n",
       "      <td>0.28390</td>\n",
       "      <td>0.24140</td>\n",
       "      <td>0.10520</td>\n",
       "      <td>0.2597</td>\n",
       "      <td>0.09744</td>\n",
       "      <td>...</td>\n",
       "      <td>0.6869</td>\n",
       "      <td>0.25750</td>\n",
       "      <td>0.6638</td>\n",
       "      <td>0.17300</td>\n",
       "      <td>0.0</td>\n",
       "      <td>0.998898</td>\n",
       "      <td>1.101607e-03</td>\n",
       "      <td>0</td>\n",
       "      <td>0.998898</td>\n",
       "      <td>0.0</td>\n",
       "    </tr>\n",
       "    <tr>\n",
       "      <th>2</th>\n",
       "      <td>12.45</td>\n",
       "      <td>15.70</td>\n",
       "      <td>82.57</td>\n",
       "      <td>477.1</td>\n",
       "      <td>0.12780</td>\n",
       "      <td>0.17000</td>\n",
       "      <td>0.15780</td>\n",
       "      <td>0.08089</td>\n",
       "      <td>0.2087</td>\n",
       "      <td>0.07613</td>\n",
       "      <td>...</td>\n",
       "      <td>0.5355</td>\n",
       "      <td>0.17410</td>\n",
       "      <td>0.3985</td>\n",
       "      <td>0.12440</td>\n",
       "      <td>0.0</td>\n",
       "      <td>0.971757</td>\n",
       "      <td>2.824266e-02</td>\n",
       "      <td>0</td>\n",
       "      <td>0.971757</td>\n",
       "      <td>0.0</td>\n",
       "    </tr>\n",
       "    <tr>\n",
       "      <th>3</th>\n",
       "      <td>13.00</td>\n",
       "      <td>21.82</td>\n",
       "      <td>87.50</td>\n",
       "      <td>519.8</td>\n",
       "      <td>0.12730</td>\n",
       "      <td>0.19320</td>\n",
       "      <td>0.18590</td>\n",
       "      <td>0.09353</td>\n",
       "      <td>0.2350</td>\n",
       "      <td>0.07389</td>\n",
       "      <td>...</td>\n",
       "      <td>0.5390</td>\n",
       "      <td>0.20600</td>\n",
       "      <td>0.4378</td>\n",
       "      <td>0.10720</td>\n",
       "      <td>0.0</td>\n",
       "      <td>0.999097</td>\n",
       "      <td>9.028290e-04</td>\n",
       "      <td>0</td>\n",
       "      <td>0.999097</td>\n",
       "      <td>0.0</td>\n",
       "    </tr>\n",
       "    <tr>\n",
       "      <th>4</th>\n",
       "      <td>16.02</td>\n",
       "      <td>23.24</td>\n",
       "      <td>102.70</td>\n",
       "      <td>797.8</td>\n",
       "      <td>0.08206</td>\n",
       "      <td>0.06669</td>\n",
       "      <td>0.03299</td>\n",
       "      <td>0.03323</td>\n",
       "      <td>0.1528</td>\n",
       "      <td>0.05697</td>\n",
       "      <td>...</td>\n",
       "      <td>0.1459</td>\n",
       "      <td>0.09975</td>\n",
       "      <td>0.2948</td>\n",
       "      <td>0.08452</td>\n",
       "      <td>0.0</td>\n",
       "      <td>0.788165</td>\n",
       "      <td>2.118350e-01</td>\n",
       "      <td>0</td>\n",
       "      <td>0.788165</td>\n",
       "      <td>0.0</td>\n",
       "    </tr>\n",
       "  </tbody>\n",
       "</table>\n",
       "<p>5 rows × 36 columns</p>\n",
       "</div>"
      ],
      "text/plain": [
       "Selected Rows from Table VALID_RES_TMQGS9\n",
       "\n",
       "   mean radius  mean texture  mean perimeter  mean area  mean smoothness  \\\n",
       "0        19.69         21.25          130.00     1203.0          0.10960   \n",
       "1        11.42         20.38           77.58      386.1          0.14250   \n",
       "2        12.45         15.70           82.57      477.1          0.12780   \n",
       "3        13.00         21.82           87.50      519.8          0.12730   \n",
       "4        16.02         23.24          102.70      797.8          0.08206   \n",
       "\n",
       "   mean compactness  mean concavity  mean concave points  mean symmetry  \\\n",
       "0           0.15990         0.19740              0.12790         0.2069   \n",
       "1           0.28390         0.24140              0.10520         0.2597   \n",
       "2           0.17000         0.15780              0.08089         0.2087   \n",
       "3           0.19320         0.18590              0.09353         0.2350   \n",
       "4           0.06669         0.03299              0.03323         0.1528   \n",
       "\n",
       "   mean fractal dimension       ...        worst concavity  \\\n",
       "0                 0.05999       ...                 0.4504   \n",
       "1                 0.09744       ...                 0.6869   \n",
       "2                 0.07613       ...                 0.5355   \n",
       "3                 0.07389       ...                 0.5390   \n",
       "4                 0.05697       ...                 0.1459   \n",
       "\n",
       "   worst concave points  worst symmetry  worst fractal dimension  \\\n",
       "0               0.24300          0.3613                  0.08758   \n",
       "1               0.25750          0.6638                  0.17300   \n",
       "2               0.17410          0.3985                  0.12440   \n",
       "3               0.20600          0.4378                  0.10720   \n",
       "4               0.09975          0.2948                  0.08452   \n",
       "\n",
       "   target_class  P_target_class0  P_target_class1  I_target_class  _DL_PredP_  \\\n",
       "0           0.0         1.000000     3.492930e-07               0    1.000000   \n",
       "1           0.0         0.998898     1.101607e-03               0    0.998898   \n",
       "2           0.0         0.971757     2.824266e-02               0    0.971757   \n",
       "3           0.0         0.999097     9.028290e-04               0    0.999097   \n",
       "4           0.0         0.788165     2.118350e-01               0    0.788165   \n",
       "\n",
       "   _DL_PredLevel_  \n",
       "0             0.0  \n",
       "1             0.0  \n",
       "2             0.0  \n",
       "3             0.0  \n",
       "4             0.0  \n",
       "\n",
       "[5 rows x 36 columns]"
      ]
     },
     "execution_count": 12,
     "metadata": {},
     "output_type": "execute_result"
    }
   ],
   "source": [
    "test_result_table.head()"
   ]
  },
  {
   "cell_type": "code",
   "execution_count": 13,
   "metadata": {},
   "outputs": [
    {
     "data": {
      "text/html": [
       "<div>\n",
       "<style scoped>\n",
       "    .dataframe tbody tr th:only-of-type {\n",
       "        vertical-align: middle;\n",
       "    }\n",
       "\n",
       "    .dataframe tbody tr th {\n",
       "        vertical-align: top;\n",
       "    }\n",
       "\n",
       "    .dataframe thead th {\n",
       "        text-align: right;\n",
       "    }\n",
       "</style>\n",
       "<table border=\"1\" class=\"dataframe\">\n",
       "  <thead>\n",
       "    <tr style=\"text-align: right;\">\n",
       "      <th title=\"I_target_class\">I_target_class</th>\n",
       "      <th title=\"0.0\">0.0</th>\n",
       "      <th title=\"1.0\">1.0</th>\n",
       "    </tr>\n",
       "    <tr>\n",
       "      <th title=\"target_class\">target_class</th>\n",
       "      <th title=\"\"></th>\n",
       "      <th title=\"\"></th>\n",
       "    </tr>\n",
       "  </thead>\n",
       "  <tbody>\n",
       "    <tr>\n",
       "      <th>0.0</th>\n",
       "      <td>51.0</td>\n",
       "      <td>4.0</td>\n",
       "    </tr>\n",
       "    <tr>\n",
       "      <th>1.0</th>\n",
       "      <td>3.0</td>\n",
       "      <td>113.0</td>\n",
       "    </tr>\n",
       "  </tbody>\n",
       "</table>\n",
       "</div>"
      ],
      "text/plain": [
       "I_target_class   0.0    1.0\n",
       "target_class               \n",
       "0.0             51.0    4.0\n",
       "1.0              3.0  113.0"
      ]
     },
     "metadata": {},
     "output_type": "display_data"
    }
   ],
   "source": [
    "# Show the confusion matrix\n",
    "display(confusion_matrix(test_result_table, 'target_class', 'I_target_class'))"
   ]
  },
  {
   "cell_type": "code",
   "execution_count": 14,
   "metadata": {},
   "outputs": [
    {
     "name": "stdout",
     "output_type": "stream",
     "text": [
      "the accuracy score is 0.959064\n"
     ]
    }
   ],
   "source": [
    "# Calculate the accuracy score\n",
    "acc_score = accuracy_score(test_result_table, 'target_class', 'I_target_class')\n",
    "print('the accuracy score is {:.6f}'.format(acc_score))"
   ]
  },
  {
   "cell_type": "code",
   "execution_count": 15,
   "metadata": {},
   "outputs": [
    {
     "data": {
      "text/plain": [
       "<matplotlib.axes._subplots.AxesSubplot at 0x20d34443c18>"
      ]
     },
     "execution_count": 15,
     "metadata": {},
     "output_type": "execute_result"
    },
    {
     "data": {
      "image/png": "[encoded data removed]",
      "text/plain": [
       "<matplotlib.figure.Figure at 0x20d33f52cc0>"
      ]
     },
     "metadata": {},
     "output_type": "display_data"
    }
   ],
   "source": [
    "# Plot the ROC curve for target_class = 1. \n",
    "plot_roc(test_result_table, 'target_class', 'P_target_class1', pos_label=1, figsize=(6,6), linewidth=2)"
   ]
  },
  {
   "cell_type": "code",
   "execution_count": 16,
   "metadata": {},
   "outputs": [
    {
     "name": "stdout",
     "output_type": "stream",
     "text": [
      "the area under the ROC curve is 0.987696\n"
     ]
    }
   ],
   "source": [
    "# Calculate the area under the ROC curve.\n",
    "auc_of_roc = roc_auc_score(test_result_table, 'target_class', 'P_target_class1', pos_label=1)\n",
    "print('the area under the ROC curve is {:.6f}'.format(auc_of_roc))"
   ]
  },
  {
   "cell_type": "code",
   "execution_count": 17,
   "metadata": {},
   "outputs": [
    {
     "data": {
      "text/plain": [
       "<matplotlib.axes._subplots.AxesSubplot at 0x20d34767ba8>"
      ]
     },
     "execution_count": 17,
     "metadata": {},
     "output_type": "execute_result"
    },
    {
     "data": {
      "image/png": "[encoded data removed]",
      "text/plain": [
       "<matplotlib.figure.Figure at 0x20d34875c88>"
      ]
     },
     "metadata": {},
     "output_type": "display_data"
    }
   ],
   "source": [
    "# Plot the precision recall curve for target_class = 1. \n",
    "plot_precision_recall(test_result_table, 'target_class', 'P_target_class1', pos_label=1, figsize=(6,6), linewidth=2)"
   ]
  },
  {
   "cell_type": "code",
   "execution_count": 18,
   "metadata": {},
   "outputs": [
    {
     "name": "stdout",
     "output_type": "stream",
     "text": [
      "the average precision score is 0.993677\n"
     ]
    }
   ],
   "source": [
    "# Calculate the average precision score\n",
    "ap = average_precision_score(test_result_table, 'target_class', 'P_target_class1', pos_label=1)\n",
    "print('the average precision score is {:.6f}'.format(ap))"
   ]
  },
  {
   "cell_type": "code",
   "execution_count": 19,
   "metadata": {},
   "outputs": [
    {
     "name": "stdout",
     "output_type": "stream",
     "text": [
      "the f1 score is 0.969957\n"
     ]
    }
   ],
   "source": [
    "# Calculate the f1 score\n",
    "f1sc = f1_score(test_result_table, 'target_class', 'I_target_class', pos_label=1)\n",
    "print('the f1 score is {:.6f}'.format(f1sc))"
   ]
  },
  {
   "cell_type": "markdown",
   "metadata": {},
   "source": [
    "**Note: For more classification related metrics, please see the dlpy.metrics**"
   ]
  }
 ],
 "metadata": {
  "kernelspec": {
   "display_name": "Python 3",
   "language": "python",
   "name": "python3"
  },
  "language_info": {
   "codemirror_mode": {
    "name": "ipython",
    "version": 3
   },
   "file_extension": ".py",
   "mimetype": "text/x-python",
   "name": "python",
   "nbconvert_exporter": "python",
   "pygments_lexer": "ipython3",
   "version": "3.6.2"
  }
 },
 "nbformat": 4,
 "nbformat_minor": 2
}
