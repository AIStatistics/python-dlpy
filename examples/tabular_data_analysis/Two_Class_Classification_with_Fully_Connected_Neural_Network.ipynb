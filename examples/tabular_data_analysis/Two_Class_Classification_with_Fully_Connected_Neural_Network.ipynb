{
 "cells": [
  {
   "cell_type": "markdown",
   "metadata": {},
   "source": [
    "# Tabular Data Classification Example"
   ]
  },
  {
   "cell_type": "markdown",
   "metadata": {},
   "source": [
    "In this example, we demonstrate how to use dlpy to build a simple neural network for tabular data classification problems. \n",
    "\n",
    "The breast cancer dataset we used here is contained in the sklearn package. More details about the data can be found here:https://scikit-learn.org/stable/datasets/index.html#breast-cancer-dataset\n",
    "\n",
    "Key steps involved:\n",
    "1. Upload data to the server\n",
    "2. Build and train a fully connected feedforward neural network model with dlpy.\n",
    "3. Predict on the testing dataset.\n",
    "4. Evaluate confusion matrix\n",
    "5. Assess and visualize ROC curve, calculate Area under the curve(AUC). "
   ]
  },
  {
   "cell_type": "markdown",
   "metadata": {},
   "source": [
    "### 1. Import python modules"
   ]
  },
  {
   "cell_type": "code",
   "execution_count": 1,
   "metadata": {},
   "outputs": [],
   "source": [
    "import pandas as pd\n",
    "import numpy as np\n",
    "import matplotlib.pylab as plt\n",
    "from sklearn.datasets import load_breast_cancer #The dataset is from sklearn package, with version >= 0.20.1\n",
    "from swat.cas import datamsghandlers\n",
    "from swat import CAS, CASTable\n",
    "from dlpy import Model, Sequential\n",
    "from dlpy.model import Optimizer, AdamSolver\n",
    "from dlpy.layers import * \n",
    "%matplotlib inline"
   ]
  },
  {
   "cell_type": "markdown",
   "metadata": {},
   "source": [
    "### 2. Connect to CAS server"
   ]
  },
  {
   "cell_type": "code",
   "execution_count": 2,
   "metadata": {},
   "outputs": [],
   "source": [
    "conn = CAS(host_name, port_number)"
   ]
  },
  {
   "cell_type": "markdown",
   "metadata": {},
   "source": [
    "### 3. Load examples dataset from scikit-learn"
   ]
  },
  {
   "cell_type": "code",
   "execution_count": 3,
   "metadata": {},
   "outputs": [],
   "source": [
    "# load the breast cancer data\n",
    "bc_data = load_breast_cancer() \n",
    "\n",
    "# Get data into two pandas dataframes for the predictors(bc_x_df) and target(bc_y_df). \n",
    "bc_x_df = pd.DataFrame(bc_data['data'], columns=bc_data['feature_names'])\n",
    "bc_y_df = pd.DataFrame(bc_data['target'], columns=['target_class'])\n",
    "\n",
    "# Concatenate the data into one dataframe\n",
    "bc_df = pd.concat([bc_x_df, bc_y_df], axis=1)"
   ]
  },
  {
   "cell_type": "code",
   "execution_count": 4,
   "metadata": {},
   "outputs": [
    {
     "data": {
      "text/html": [
       "<div>\n",
       "<style scoped>\n",
       "    .dataframe tbody tr th:only-of-type {\n",
       "        vertical-align: middle;\n",
       "    }\n",
       "\n",
       "    .dataframe tbody tr th {\n",
       "        vertical-align: top;\n",
       "    }\n",
       "\n",
       "    .dataframe thead th {\n",
       "        text-align: right;\n",
       "    }\n",
       "</style>\n",
       "<table border=\"1\" class=\"dataframe\">\n",
       "  <thead>\n",
       "    <tr style=\"text-align: right;\">\n",
       "      <th></th>\n",
       "      <th>mean radius</th>\n",
       "      <th>mean texture</th>\n",
       "      <th>mean perimeter</th>\n",
       "      <th>mean area</th>\n",
       "      <th>mean smoothness</th>\n",
       "      <th>mean compactness</th>\n",
       "      <th>mean concavity</th>\n",
       "      <th>mean concave points</th>\n",
       "      <th>mean symmetry</th>\n",
       "      <th>mean fractal dimension</th>\n",
       "      <th>...</th>\n",
       "      <th>worst texture</th>\n",
       "      <th>worst perimeter</th>\n",
       "      <th>worst area</th>\n",
       "      <th>worst smoothness</th>\n",
       "      <th>worst compactness</th>\n",
       "      <th>worst concavity</th>\n",
       "      <th>worst concave points</th>\n",
       "      <th>worst symmetry</th>\n",
       "      <th>worst fractal dimension</th>\n",
       "      <th>target_class</th>\n",
       "    </tr>\n",
       "  </thead>\n",
       "  <tbody>\n",
       "    <tr>\n",
       "      <th>0</th>\n",
       "      <td>17.99</td>\n",
       "      <td>10.38</td>\n",
       "      <td>122.80</td>\n",
       "      <td>1001.0</td>\n",
       "      <td>0.11840</td>\n",
       "      <td>0.27760</td>\n",
       "      <td>0.30010</td>\n",
       "      <td>0.14710</td>\n",
       "      <td>0.2419</td>\n",
       "      <td>0.07871</td>\n",
       "      <td>...</td>\n",
       "      <td>17.33</td>\n",
       "      <td>184.60</td>\n",
       "      <td>2019.0</td>\n",
       "      <td>0.1622</td>\n",
       "      <td>0.6656</td>\n",
       "      <td>0.7119</td>\n",
       "      <td>0.26540</td>\n",
       "      <td>0.4601</td>\n",
       "      <td>0.11890</td>\n",
       "      <td>0</td>\n",
       "    </tr>\n",
       "    <tr>\n",
       "      <th>1</th>\n",
       "      <td>20.57</td>\n",
       "      <td>17.77</td>\n",
       "      <td>132.90</td>\n",
       "      <td>1326.0</td>\n",
       "      <td>0.08474</td>\n",
       "      <td>0.07864</td>\n",
       "      <td>0.08690</td>\n",
       "      <td>0.07017</td>\n",
       "      <td>0.1812</td>\n",
       "      <td>0.05667</td>\n",
       "      <td>...</td>\n",
       "      <td>23.41</td>\n",
       "      <td>158.80</td>\n",
       "      <td>1956.0</td>\n",
       "      <td>0.1238</td>\n",
       "      <td>0.1866</td>\n",
       "      <td>0.2416</td>\n",
       "      <td>0.18600</td>\n",
       "      <td>0.2750</td>\n",
       "      <td>0.08902</td>\n",
       "      <td>0</td>\n",
       "    </tr>\n",
       "    <tr>\n",
       "      <th>2</th>\n",
       "      <td>19.69</td>\n",
       "      <td>21.25</td>\n",
       "      <td>130.00</td>\n",
       "      <td>1203.0</td>\n",
       "      <td>0.10960</td>\n",
       "      <td>0.15990</td>\n",
       "      <td>0.19740</td>\n",
       "      <td>0.12790</td>\n",
       "      <td>0.2069</td>\n",
       "      <td>0.05999</td>\n",
       "      <td>...</td>\n",
       "      <td>25.53</td>\n",
       "      <td>152.50</td>\n",
       "      <td>1709.0</td>\n",
       "      <td>0.1444</td>\n",
       "      <td>0.4245</td>\n",
       "      <td>0.4504</td>\n",
       "      <td>0.24300</td>\n",
       "      <td>0.3613</td>\n",
       "      <td>0.08758</td>\n",
       "      <td>0</td>\n",
       "    </tr>\n",
       "    <tr>\n",
       "      <th>3</th>\n",
       "      <td>11.42</td>\n",
       "      <td>20.38</td>\n",
       "      <td>77.58</td>\n",
       "      <td>386.1</td>\n",
       "      <td>0.14250</td>\n",
       "      <td>0.28390</td>\n",
       "      <td>0.24140</td>\n",
       "      <td>0.10520</td>\n",
       "      <td>0.2597</td>\n",
       "      <td>0.09744</td>\n",
       "      <td>...</td>\n",
       "      <td>26.50</td>\n",
       "      <td>98.87</td>\n",
       "      <td>567.7</td>\n",
       "      <td>0.2098</td>\n",
       "      <td>0.8663</td>\n",
       "      <td>0.6869</td>\n",
       "      <td>0.25750</td>\n",
       "      <td>0.6638</td>\n",
       "      <td>0.17300</td>\n",
       "      <td>0</td>\n",
       "    </tr>\n",
       "    <tr>\n",
       "      <th>4</th>\n",
       "      <td>20.29</td>\n",
       "      <td>14.34</td>\n",
       "      <td>135.10</td>\n",
       "      <td>1297.0</td>\n",
       "      <td>0.10030</td>\n",
       "      <td>0.13280</td>\n",
       "      <td>0.19800</td>\n",
       "      <td>0.10430</td>\n",
       "      <td>0.1809</td>\n",
       "      <td>0.05883</td>\n",
       "      <td>...</td>\n",
       "      <td>16.67</td>\n",
       "      <td>152.20</td>\n",
       "      <td>1575.0</td>\n",
       "      <td>0.1374</td>\n",
       "      <td>0.2050</td>\n",
       "      <td>0.4000</td>\n",
       "      <td>0.16250</td>\n",
       "      <td>0.2364</td>\n",
       "      <td>0.07678</td>\n",
       "      <td>0</td>\n",
       "    </tr>\n",
       "    <tr>\n",
       "      <th>5</th>\n",
       "      <td>12.45</td>\n",
       "      <td>15.70</td>\n",
       "      <td>82.57</td>\n",
       "      <td>477.1</td>\n",
       "      <td>0.12780</td>\n",
       "      <td>0.17000</td>\n",
       "      <td>0.15780</td>\n",
       "      <td>0.08089</td>\n",
       "      <td>0.2087</td>\n",
       "      <td>0.07613</td>\n",
       "      <td>...</td>\n",
       "      <td>23.75</td>\n",
       "      <td>103.40</td>\n",
       "      <td>741.6</td>\n",
       "      <td>0.1791</td>\n",
       "      <td>0.5249</td>\n",
       "      <td>0.5355</td>\n",
       "      <td>0.17410</td>\n",
       "      <td>0.3985</td>\n",
       "      <td>0.12440</td>\n",
       "      <td>0</td>\n",
       "    </tr>\n",
       "    <tr>\n",
       "      <th>6</th>\n",
       "      <td>18.25</td>\n",
       "      <td>19.98</td>\n",
       "      <td>119.60</td>\n",
       "      <td>1040.0</td>\n",
       "      <td>0.09463</td>\n",
       "      <td>0.10900</td>\n",
       "      <td>0.11270</td>\n",
       "      <td>0.07400</td>\n",
       "      <td>0.1794</td>\n",
       "      <td>0.05742</td>\n",
       "      <td>...</td>\n",
       "      <td>27.66</td>\n",
       "      <td>153.20</td>\n",
       "      <td>1606.0</td>\n",
       "      <td>0.1442</td>\n",
       "      <td>0.2576</td>\n",
       "      <td>0.3784</td>\n",
       "      <td>0.19320</td>\n",
       "      <td>0.3063</td>\n",
       "      <td>0.08368</td>\n",
       "      <td>0</td>\n",
       "    </tr>\n",
       "    <tr>\n",
       "      <th>7</th>\n",
       "      <td>13.71</td>\n",
       "      <td>20.83</td>\n",
       "      <td>90.20</td>\n",
       "      <td>577.9</td>\n",
       "      <td>0.11890</td>\n",
       "      <td>0.16450</td>\n",
       "      <td>0.09366</td>\n",
       "      <td>0.05985</td>\n",
       "      <td>0.2196</td>\n",
       "      <td>0.07451</td>\n",
       "      <td>...</td>\n",
       "      <td>28.14</td>\n",
       "      <td>110.60</td>\n",
       "      <td>897.0</td>\n",
       "      <td>0.1654</td>\n",
       "      <td>0.3682</td>\n",
       "      <td>0.2678</td>\n",
       "      <td>0.15560</td>\n",
       "      <td>0.3196</td>\n",
       "      <td>0.11510</td>\n",
       "      <td>0</td>\n",
       "    </tr>\n",
       "    <tr>\n",
       "      <th>8</th>\n",
       "      <td>13.00</td>\n",
       "      <td>21.82</td>\n",
       "      <td>87.50</td>\n",
       "      <td>519.8</td>\n",
       "      <td>0.12730</td>\n",
       "      <td>0.19320</td>\n",
       "      <td>0.18590</td>\n",
       "      <td>0.09353</td>\n",
       "      <td>0.2350</td>\n",
       "      <td>0.07389</td>\n",
       "      <td>...</td>\n",
       "      <td>30.73</td>\n",
       "      <td>106.20</td>\n",
       "      <td>739.3</td>\n",
       "      <td>0.1703</td>\n",
       "      <td>0.5401</td>\n",
       "      <td>0.5390</td>\n",
       "      <td>0.20600</td>\n",
       "      <td>0.4378</td>\n",
       "      <td>0.10720</td>\n",
       "      <td>0</td>\n",
       "    </tr>\n",
       "    <tr>\n",
       "      <th>9</th>\n",
       "      <td>12.46</td>\n",
       "      <td>24.04</td>\n",
       "      <td>83.97</td>\n",
       "      <td>475.9</td>\n",
       "      <td>0.11860</td>\n",
       "      <td>0.23960</td>\n",
       "      <td>0.22730</td>\n",
       "      <td>0.08543</td>\n",
       "      <td>0.2030</td>\n",
       "      <td>0.08243</td>\n",
       "      <td>...</td>\n",
       "      <td>40.68</td>\n",
       "      <td>97.65</td>\n",
       "      <td>711.4</td>\n",
       "      <td>0.1853</td>\n",
       "      <td>1.0580</td>\n",
       "      <td>1.1050</td>\n",
       "      <td>0.22100</td>\n",
       "      <td>0.4366</td>\n",
       "      <td>0.20750</td>\n",
       "      <td>0</td>\n",
       "    </tr>\n",
       "    <tr>\n",
       "      <th>10</th>\n",
       "      <td>16.02</td>\n",
       "      <td>23.24</td>\n",
       "      <td>102.70</td>\n",
       "      <td>797.8</td>\n",
       "      <td>0.08206</td>\n",
       "      <td>0.06669</td>\n",
       "      <td>0.03299</td>\n",
       "      <td>0.03323</td>\n",
       "      <td>0.1528</td>\n",
       "      <td>0.05697</td>\n",
       "      <td>...</td>\n",
       "      <td>33.88</td>\n",
       "      <td>123.80</td>\n",
       "      <td>1150.0</td>\n",
       "      <td>0.1181</td>\n",
       "      <td>0.1551</td>\n",
       "      <td>0.1459</td>\n",
       "      <td>0.09975</td>\n",
       "      <td>0.2948</td>\n",
       "      <td>0.08452</td>\n",
       "      <td>0</td>\n",
       "    </tr>\n",
       "  </tbody>\n",
       "</table>\n",
       "<p>11 rows × 31 columns</p>\n",
       "</div>"
      ],
      "text/plain": [
       "    mean radius  mean texture  mean perimeter  mean area  mean smoothness  \\\n",
       "0         17.99         10.38          122.80     1001.0          0.11840   \n",
       "1         20.57         17.77          132.90     1326.0          0.08474   \n",
       "2         19.69         21.25          130.00     1203.0          0.10960   \n",
       "3         11.42         20.38           77.58      386.1          0.14250   \n",
       "4         20.29         14.34          135.10     1297.0          0.10030   \n",
       "5         12.45         15.70           82.57      477.1          0.12780   \n",
       "6         18.25         19.98          119.60     1040.0          0.09463   \n",
       "7         13.71         20.83           90.20      577.9          0.11890   \n",
       "8         13.00         21.82           87.50      519.8          0.12730   \n",
       "9         12.46         24.04           83.97      475.9          0.11860   \n",
       "10        16.02         23.24          102.70      797.8          0.08206   \n",
       "\n",
       "    mean compactness  mean concavity  mean concave points  mean symmetry  \\\n",
       "0            0.27760         0.30010              0.14710         0.2419   \n",
       "1            0.07864         0.08690              0.07017         0.1812   \n",
       "2            0.15990         0.19740              0.12790         0.2069   \n",
       "3            0.28390         0.24140              0.10520         0.2597   \n",
       "4            0.13280         0.19800              0.10430         0.1809   \n",
       "5            0.17000         0.15780              0.08089         0.2087   \n",
       "6            0.10900         0.11270              0.07400         0.1794   \n",
       "7            0.16450         0.09366              0.05985         0.2196   \n",
       "8            0.19320         0.18590              0.09353         0.2350   \n",
       "9            0.23960         0.22730              0.08543         0.2030   \n",
       "10           0.06669         0.03299              0.03323         0.1528   \n",
       "\n",
       "    mean fractal dimension      ...       worst texture  worst perimeter  \\\n",
       "0                  0.07871      ...               17.33           184.60   \n",
       "1                  0.05667      ...               23.41           158.80   \n",
       "2                  0.05999      ...               25.53           152.50   \n",
       "3                  0.09744      ...               26.50            98.87   \n",
       "4                  0.05883      ...               16.67           152.20   \n",
       "5                  0.07613      ...               23.75           103.40   \n",
       "6                  0.05742      ...               27.66           153.20   \n",
       "7                  0.07451      ...               28.14           110.60   \n",
       "8                  0.07389      ...               30.73           106.20   \n",
       "9                  0.08243      ...               40.68            97.65   \n",
       "10                 0.05697      ...               33.88           123.80   \n",
       "\n",
       "    worst area  worst smoothness  worst compactness  worst concavity  \\\n",
       "0       2019.0            0.1622             0.6656           0.7119   \n",
       "1       1956.0            0.1238             0.1866           0.2416   \n",
       "2       1709.0            0.1444             0.4245           0.4504   \n",
       "3        567.7            0.2098             0.8663           0.6869   \n",
       "4       1575.0            0.1374             0.2050           0.4000   \n",
       "5        741.6            0.1791             0.5249           0.5355   \n",
       "6       1606.0            0.1442             0.2576           0.3784   \n",
       "7        897.0            0.1654             0.3682           0.2678   \n",
       "8        739.3            0.1703             0.5401           0.5390   \n",
       "9        711.4            0.1853             1.0580           1.1050   \n",
       "10      1150.0            0.1181             0.1551           0.1459   \n",
       "\n",
       "    worst concave points  worst symmetry  worst fractal dimension  \\\n",
       "0                0.26540          0.4601                  0.11890   \n",
       "1                0.18600          0.2750                  0.08902   \n",
       "2                0.24300          0.3613                  0.08758   \n",
       "3                0.25750          0.6638                  0.17300   \n",
       "4                0.16250          0.2364                  0.07678   \n",
       "5                0.17410          0.3985                  0.12440   \n",
       "6                0.19320          0.3063                  0.08368   \n",
       "7                0.15560          0.3196                  0.11510   \n",
       "8                0.20600          0.4378                  0.10720   \n",
       "9                0.22100          0.4366                  0.20750   \n",
       "10               0.09975          0.2948                  0.08452   \n",
       "\n",
       "    target_class  \n",
       "0              0  \n",
       "1              0  \n",
       "2              0  \n",
       "3              0  \n",
       "4              0  \n",
       "5              0  \n",
       "6              0  \n",
       "7              0  \n",
       "8              0  \n",
       "9              0  \n",
       "10             0  \n",
       "\n",
       "[11 rows x 31 columns]"
      ]
     },
     "execution_count": 4,
     "metadata": {},
     "output_type": "execute_result"
    }
   ],
   "source": [
    "bc_df.loc[:10]"
   ]
  },
  {
   "cell_type": "markdown",
   "metadata": {},
   "source": [
    "There are 212 malignant tumors ('0' in the data), 357 benign tumors ('1' in the data)"
   ]
  },
  {
   "cell_type": "code",
   "execution_count": 5,
   "metadata": {},
   "outputs": [
    {
     "data": {
      "text/plain": [
       "1    357\n",
       "0    212\n",
       "Name: target_class, dtype: int64"
      ]
     },
     "execution_count": 5,
     "metadata": {},
     "output_type": "execute_result"
    }
   ],
   "source": [
    "bc_df.target_class.value_counts()"
   ]
  },
  {
   "cell_type": "markdown",
   "metadata": {},
   "source": [
    "### 4. Upload the pandas dataframe to server"
   ]
  },
  {
   "cell_type": "code",
   "execution_count": 6,
   "metadata": {},
   "outputs": [],
   "source": [
    "handler = datamsghandlers.PandasDataFrame(bc_df)\n",
    "conn.addtable(table='bc_df', replace=True, **handler.args.addtable)\n",
    "tbl = conn.CASTable(name='bc_df')"
   ]
  },
  {
   "cell_type": "markdown",
   "metadata": {},
   "source": [
    "### 5. Split the data"
   ]
  },
  {
   "cell_type": "markdown",
   "metadata": {},
   "source": [
    "Here we show the train-test spliting using the 'sampling' action in CAS. It is a preferred method, if the data is large and hosted on the server side. "
   ]
  },
  {
   "cell_type": "code",
   "execution_count": 7,
   "metadata": {},
   "outputs": [
    {
     "name": "stdout",
     "output_type": "stream",
     "text": [
      "NOTE: Using SEED=1234 for sampling.\n"
     ]
    }
   ],
   "source": [
    "# load the sampling action set\n",
    "conn.loadactionset(actionSet='sampling', _messagelevel='error')\n",
    "\n",
    "# do random sampling, and add a new ('partind') column to the original table.\n",
    "# partind column have randomly selected 30% entries marked as indicator 1 for testing, \n",
    "# and the rest 70% are marked as 0 for training\n",
    "sample_result = conn.sampling.srs(tbl, sampPct=30, \n",
    "                                  partInd=True, seed=1234,\n",
    "                                  output={'casOut':{'name':tbl.name, 'replace':True}, \n",
    "                                          'copyVars':'ALL', 'partIndName':'partind'})\n",
    "\n",
    "# get the train and test dataset\n",
    "train_tbl = tbl.query('partind = 0')\n",
    "test_tbl = tbl.query('partind = 1')"
   ]
  },
  {
   "cell_type": "markdown",
   "metadata": {},
   "source": [
    "### 6. Build one layer fully connected neural network"
   ]
  },
  {
   "cell_type": "markdown",
   "metadata": {},
   "source": [
    "Network specifications:\n",
    "1. One dense layer\n",
    "2. Activation function: relu\n",
    "3. Number of neurons: 20\n",
    "4. Output layer loss function: entropy.\n",
    "5. Output layer activation function: softmax (to match with entropy).\n",
    "6. number of neuron in output layer: n=2 (two classes)."
   ]
  },
  {
   "cell_type": "code",
   "execution_count": 8,
   "metadata": {
    "scrolled": true
   },
   "outputs": [
    {
     "name": "stdout",
     "output_type": "stream",
     "text": [
      "NOTE: Input layer added.\n",
      "NOTE: Fully-connected layer added.\n",
      "NOTE: Output layer added.\n",
      "NOTE: Model compiled successfully.\n"
     ]
    }
   ],
   "source": [
    "model1 = Sequential(conn, model_table=CASTable('simple_dnn_classifier', replace=True))\n",
    "model1.add(InputLayer(std='STD'))\n",
    "model1.add(Dense(20, act='relu'))\n",
    "model1.add(OutputLayer(act='softmax', n=2,  error='entropy'))"
   ]
  },
  {
   "cell_type": "markdown",
   "metadata": {},
   "source": [
    "### 7. Train fully connected neural network"
   ]
  },
  {
   "cell_type": "markdown",
   "metadata": {},
   "source": [
    "Here we specify the optimizer to show a **scheduled training approach**:\n",
    "\n",
    "We use `learning_rate_policy='step'` to specify stepwise learning rate decreasing policy. The step size is `step_size=5`, which means every 5 epochs, the `learning_rate` will be multiplied by factor `gamma=0.9`. In addition, we set `log_level=2` to visualize the training log."
   ]
  },
  {
   "cell_type": "code",
   "execution_count": 9,
   "metadata": {
    "scrolled": false
   },
   "outputs": [
    {
     "name": "stdout",
     "output_type": "stream",
     "text": [
      "NOTE: Training from scratch.\n",
      "NOTE:  The Synchronous mode is enabled.\n",
      "NOTE:  The total number of parameters is 662.\n",
      "NOTE:  The approximate memory cost is 1.00 MB.\n",
      "NOTE:  Loading weights cost       0.00 (s).\n",
      "NOTE:  Initializing each layer cost       0.01 (s).\n",
      "NOTE:  The total number of threads on each worker is 32.\n",
      "NOTE:  The total mini-batch size per thread on each worker is 4.\n",
      "NOTE:  The maximum mini-batch size across all workers for the synchronous mode is 128.\n",
      "NOTE:  Target variable: target_class\n",
      "NOTE:  Number of levels for the target variable:      2\n",
      "NOTE:  Levels for the target variable:\n",
      "NOTE:  Level      0:            0\n",
      "NOTE:  Level      1:            1\n",
      "NOTE:  Number of input variables:    30\n",
      "NOTE:  Number of numeric input variables:     30\n",
      "NOTE:  Epoch Learning Rate        Loss  Fit Error   Time(s)\n",
      "NOTE:  0         0.001          0.5993     0.3116     0.01\n",
      "NOTE:  1         0.001          0.2034    0.03015     0.01\n",
      "NOTE:  2         0.001          0.1277    0.02764     0.01\n",
      "NOTE:  3         0.001         0.09923    0.02261     0.01\n",
      "NOTE:  4         0.001         0.08418    0.02261     0.01\n",
      "NOTE:  5        0.0009         0.07474    0.01759     0.01\n",
      "NOTE:  6        0.0009          0.0686    0.01508     0.01\n",
      "NOTE:  7        0.0009         0.06362    0.01508     0.01\n",
      "NOTE:  8        0.0009         0.05949    0.01508     0.01\n",
      "NOTE:  9        0.0009         0.05597    0.01256     0.01\n",
      "NOTE:  10       0.0008         0.05282    0.01256     0.01\n",
      "NOTE:  11       0.0008         0.05027    0.01005     0.01\n",
      "NOTE:  12       0.0008         0.04794    0.01005     0.01\n",
      "NOTE:  13       0.0008         0.04583    0.01005     0.01\n",
      "NOTE:  14       0.0008         0.04381    0.01005     0.01\n",
      "NOTE:  15       0.0007         0.04209    0.01005     0.01\n",
      "NOTE:  16       0.0007         0.04059   0.007538     0.01\n",
      "NOTE:  17       0.0007         0.03923   0.007538     0.01\n",
      "NOTE:  18       0.0007         0.03796   0.007538     0.01\n",
      "NOTE:  19       0.0007         0.03659   0.007538     0.01\n",
      "NOTE:  20       0.0007         0.03531   0.007538     0.01\n",
      "NOTE:  21       0.0007         0.03422   0.007538     0.01\n",
      "NOTE:  22       0.0007         0.03325   0.007538     0.01\n",
      "NOTE:  23       0.0007         0.03204   0.007538     0.01\n",
      "NOTE:  24       0.0007         0.03113   0.007538     0.01\n",
      "NOTE:  25       0.0006         0.03003   0.007538     0.01\n",
      "NOTE:  26       0.0006         0.02912   0.007538     0.01\n",
      "NOTE:  27       0.0006         0.02827   0.007538     0.01\n",
      "NOTE:  28       0.0006         0.02736   0.007538     0.01\n",
      "NOTE:  29       0.0006         0.02655   0.007538     0.01\n",
      "NOTE:  30       0.0005         0.02559   0.007538     0.01\n",
      "NOTE:  31       0.0005         0.02488   0.007538     0.01\n",
      "NOTE:  32       0.0005         0.02419   0.007538     0.01\n",
      "NOTE:  33       0.0005         0.02334   0.007538     0.01\n",
      "NOTE:  34       0.0005          0.0227   0.007538     0.01\n",
      "NOTE:  35       0.0005         0.02176   0.007538     0.01\n",
      "NOTE:  36       0.0005         0.02133   0.007538     0.01\n",
      "NOTE:  37       0.0005         0.02056   0.007538     0.01\n",
      "NOTE:  38       0.0005         0.01984   0.007538     0.01\n",
      "NOTE:  39       0.0005         0.01934   0.007538     0.01\n",
      "NOTE:  40       0.0004         0.01877   0.007538     0.01\n",
      "NOTE:  41       0.0004           0.018   0.007538     0.01\n",
      "NOTE:  42       0.0004         0.01762   0.007538     0.01\n",
      "NOTE:  43       0.0004         0.01712   0.007538     0.01\n",
      "NOTE:  44       0.0004         0.01654   0.007538     0.01\n",
      "NOTE:  45       0.0004         0.01609   0.005025     0.01\n",
      "NOTE:  46       0.0004          0.0156   0.005025     0.01\n",
      "NOTE:  47       0.0004         0.01516   0.005025     0.01\n",
      "NOTE:  48       0.0004         0.01476   0.005025     0.01\n",
      "NOTE:  49       0.0004         0.01449   0.005025     0.01\n",
      "NOTE:  The optimization reached the maximum number of epochs.\n",
      "NOTE:  The total time is       0.39 (s).\n"
     ]
    }
   ],
   "source": [
    "optimizer = Optimizer(algorithm=AdamSolver(learning_rate=0.001, learning_rate_policy='step', gamma=0.9, step_size=5),\n",
    "                      mini_batch_size=4, seed=1234, max_epochs=50, log_level=2)\n",
    "\n",
    "result = model1.fit(train_tbl, inputs=bc_x_df.columns.tolist(), nominals=['target_class'], \n",
    "           target='target_class', optimizer=optimizer)"
   ]
  },
  {
   "cell_type": "code",
   "execution_count": 10,
   "metadata": {},
   "outputs": [
    {
     "data": {
      "image/png": "[encoded data removed]",
      "text/plain": [
       "<matplotlib.figure.Figure at 0x1a87e986390>"
      ]
     },
     "metadata": {},
     "output_type": "display_data"
    }
   ],
   "source": [
    "# Plot the training history.\n",
    "model1.plot_training_history()"
   ]
  },
  {
   "cell_type": "markdown",
   "metadata": {},
   "source": [
    "### 8. Predict the test data set"
   ]
  },
  {
   "cell_type": "code",
   "execution_count": 11,
   "metadata": {},
   "outputs": [],
   "source": [
    "result = model1.predict(test_tbl)\n",
    "resulttbl = model1.valid_res_tbl"
   ]
  },
  {
   "cell_type": "markdown",
   "metadata": {},
   "source": [
    "### 9. Show the confusion matrix"
   ]
  },
  {
   "cell_type": "code",
   "execution_count": 12,
   "metadata": {},
   "outputs": [
    {
     "data": {
      "text/html": [
       "<div>\n",
       "<style scoped>\n",
       "    .dataframe tbody tr th:only-of-type {\n",
       "        vertical-align: middle;\n",
       "    }\n",
       "\n",
       "    .dataframe tbody tr th {\n",
       "        vertical-align: top;\n",
       "    }\n",
       "\n",
       "    .dataframe thead th {\n",
       "        text-align: right;\n",
       "    }\n",
       "</style>\n",
       "<table border=\"1\" class=\"dataframe\">\n",
       "  <thead>\n",
       "    <tr style=\"text-align: right;\">\n",
       "      <th title=\"\"></th>\n",
       "      <th title=\"target_class\">target_class</th>\n",
       "      <th title=\"0\">Col1</th>\n",
       "      <th title=\"1\">Col2</th>\n",
       "    </tr>\n",
       "  </thead>\n",
       "  <tbody>\n",
       "    <tr>\n",
       "      <th>0</th>\n",
       "      <td>0</td>\n",
       "      <td>71.0</td>\n",
       "      <td>7.0</td>\n",
       "    </tr>\n",
       "    <tr>\n",
       "      <th>1</th>\n",
       "      <td>1</td>\n",
       "      <td>1.0</td>\n",
       "      <td>92.0</td>\n",
       "    </tr>\n",
       "  </tbody>\n",
       "</table>\n",
       "</div>"
      ],
      "text/plain": [
       "   target_class  Col1  Col2\n",
       "0             0  71.0   7.0\n",
       "1             1   1.0  92.0"
      ]
     },
     "metadata": {},
     "output_type": "display_data"
    }
   ],
   "source": [
    "# Use the crosstab functionality to show the confusion matrix\n",
    "# the real target is in 'target_class', the predicted target is in 'I_target_class'\n",
    "crosstab_result = model1.conn.crosstab(resulttbl, row='target_class', col='I_target_class')\n",
    "con_matrix = crosstab_result['Crosstab']\n",
    "display(con_matrix)"
   ]
  },
  {
   "cell_type": "markdown",
   "metadata": {},
   "source": [
    "### 10. Use percentile.assess generate ROC curve "
   ]
  },
  {
   "cell_type": "code",
   "execution_count": 13,
   "metadata": {},
   "outputs": [],
   "source": [
    "# Load actionset\n",
    "conn.loadactionset(actionSet='percentile', _messagelevel='error')\n",
    "\n",
    "# resulttbl is the CASTable object of the predicted results\n",
    "# inputs is the predicted class probability\n",
    "# respons is the target class label\n",
    "# event specifies the positive event\n",
    "# cutstep is the incremental step size of probability cutoff\n",
    "roc_res = conn.percentile.assess(resulttbl, inputs=['P_target_class1'], response='target_class', \n",
    "                                 event='1', cutstep=0.001)"
   ]
  },
  {
   "cell_type": "code",
   "execution_count": 14,
   "metadata": {},
   "outputs": [],
   "source": [
    "roc = roc_res['ROCInfo']\n",
    "\n",
    "# False positive rate, add the 0 point to the list, since the original doesn't have cutoff value = 1\n",
    "FPR = list(roc.FPR) + [0]\n",
    "# True positive rate, add the 0 point to the list, since the original doesn't have cutoff value = 1\n",
    "TPR = list(roc.Sensitivity) + [0]"
   ]
  },
  {
   "cell_type": "code",
   "execution_count": 15,
   "metadata": {},
   "outputs": [
    {
     "data": {
      "text/plain": [
       "Text(0.5,1,'ROC curve')"
      ]
     },
     "execution_count": 15,
     "metadata": {},
     "output_type": "execute_result"
    },
    {
     "data": {
      "image/png": "[encoded data removed]",
      "text/plain": [
       "<matplotlib.figure.Figure at 0x1a8007afc50>"
      ]
     },
     "metadata": {},
     "output_type": "display_data"
    }
   ],
   "source": [
    "fig, ax = plt.subplots(1, 1, figsize=(6, 6))\n",
    "ax.plot(FPR, TPR)\n",
    "ax.set_ylim([-0.01, 1.01])\n",
    "ax.set_xlim([-0.01, 1.01])\n",
    "ax.plot([0,1], [0,1], linestyle='--')\n",
    "ax.set_xlabel('False Positive Rate', fontsize=16)\n",
    "ax.set_ylabel('True Positive Rate', fontsize=16)\n",
    "ax.set_title('ROC curve', fontsize=20)"
   ]
  },
  {
   "cell_type": "code",
   "execution_count": 16,
   "metadata": {},
   "outputs": [
    {
     "name": "stdout",
     "output_type": "stream",
     "text": [
      "The area under the curve is: 0.9870\n"
     ]
    }
   ],
   "source": [
    "AUC = roc.C.loc[0]\n",
    "print('The area under the curve is: {:.4f}'.format(AUC))"
   ]
  }
 ],
 "metadata": {
  "kernelspec": {
   "display_name": "Python 3",
   "language": "python",
   "name": "python3"
  },
  "language_info": {
   "codemirror_mode": {
    "name": "ipython",
    "version": 3
   },
   "file_extension": ".py",
   "mimetype": "text/x-python",
   "name": "python",
   "nbconvert_exporter": "python",
   "pygments_lexer": "ipython3",
   "version": "3.6.2"
  }
 },
 "nbformat": 4,
 "nbformat_minor": 2
}
