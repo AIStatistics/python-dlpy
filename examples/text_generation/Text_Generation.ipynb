{
 "cells": [
  {
   "cell_type": "markdown",
   "metadata": {},
   "source": [
    "<h1>DLPy RNN Text Generation Example</h1>"
   ]
  },
  {
   "cell_type": "markdown",
   "metadata": {},
   "source": [
    "The following SAS DLPy example performs a text generation task by creating a simple RNN text generation network. The text generation task is to read a text passage and then learn to generate a title for the text passage.\n",
    "\n",
    "The example uses toy training and test data sets that contain text input and titles. The toy data sets are included in the example code. \n",
    "\n",
    "The example assumes that you begin with an active CAS server session as well as pandas, NumPy, and DLPy libraries.\n",
    "\n",
    "The text classification example also requires a word embedding file used to generate word vectors. Open source pre-trained word embedding files from providers such as Glove and Word2Vec will suffice for example purposes.\n"
   ]
  },
  {
   "cell_type": "markdown",
   "metadata": {},
   "source": [
    "<h3>Start and Configure CAS Session</h3>"
   ]
  },
  {
   "cell_type": "markdown",
   "metadata": {},
   "source": [
    "SAS DLPy requires a running SAS CAS server and Scripting Wrapper for Analytic Transfer (SWAT). The SWAT package is a Python interface to CAS. \n",
    "\n",
    "<b>Note:</b> For more information about starting a CAS session with the SWAT package, see https://sassoftware.github.io/python-swat/getting-started.html."
   ]
  },
  {
   "cell_type": "code",
   "execution_count": 1,
   "metadata": {},
   "outputs": [],
   "source": [
    "# Start a CAS server\n",
    "import swat\n",
    "conn = swat.CAS(cashost, casport)"
   ]
  },
  {
   "cell_type": "markdown",
   "metadata": {},
   "source": [
    "<h3> Load Word Embeddings File </h5>"
   ]
  },
  {
   "cell_type": "markdown",
   "metadata": {},
   "source": [
    "After initializing CAS and SWAT, import the pandas data analysis library, and then import the location and name of your word embedding file. Word embeddings provides a numeric vector representation for each word/phrase so that recurrent neural networks can work using numbers, rather than words. \n",
    "\n",
    "<b>Note:</b> You must provide your own open source word embeddings file. This example uses a file named `word_embeddings.txt`, but the path to and the name of your open-source word embeddings file might vary.\n",
    "\n",
    "Use `upload_frame()` to load your `word_embeddings.txt` file to the CAS server as a CAS table named `WORD_EMBEDDINGS`.\n"
   ]
  },
  {
   "cell_type": "code",
   "execution_count": 2,
   "metadata": {},
   "outputs": [
    {
     "name": "stdout",
     "output_type": "stream",
     "text": [
      "NOTE: Cloud Analytic Services made the uploaded file available as table WORD_EMBEDDINGS in caslib CASUSER(ethem_kinginthenorth).\n",
      "NOTE: The table WORD_EMBEDDINGS has been created in caslib CASUSER(ethem_kinginthenorth) from binary data uploaded to Cloud Analytic Services.\n"
     ]
    },
    {
     "data": {
      "text/plain": [
       "CASTable('WORD_EMBEDDINGS', caslib='CASUSER(ethem_kinginthenorth)')"
      ]
     },
     "execution_count": 2,
     "metadata": {},
     "output_type": "execute_result"
    }
   ],
   "source": [
    "# load word embeddings: vector representations of words\n",
    "# this example uses pre-trained word embeddings \n",
    "import pandas as pd\n",
    "embeddings = pd.read_csv('/disk/linux/dlpy/word_embeddings.txt', skipinitialspace=True, index_col=False, delimiter='\\t')\n",
    "conn.upload_frame(embeddings, casout=dict(name='word_embeddings', replace=True))"
   ]
  },
  {
   "cell_type": "markdown",
   "metadata": {},
   "source": [
    "<h3>Create Training Data Set and Load as CAS Table</h3>"
   ]
  },
  {
   "cell_type": "markdown",
   "metadata": {},
   "source": [
    "Now create the toy training data set for the text generation example. The toy training data set is comprised of text input. Each observation of the text input contains a text passage (up to several sentences in length), and a title that summarizes the text passage. \n",
    "\n",
    "Use data handler and the `addtable()` function to upload `sentiment_data` to the CAS server as a CAS table named  `SENTIMENT_DATA`."
   ]
  },
  {
   "cell_type": "code",
   "execution_count": 3,
   "metadata": {},
   "outputs": [
    {
     "data": {
      "text/html": [
       "<div class=\"cas-results-key\"><b>&#167; caslib</b></div>\n",
       "<div class=\"cas-results-body\">\n",
       "<div>CASUSER(ethem_kinginthenorth)</div>\n",
       "</div>\n",
       "<div class=\"cas-results-key\"><hr/><b>&#167; tableName</b></div>\n",
       "<div class=\"cas-results-body\">\n",
       "<div>TOYTEXT_TRAINING</div>\n",
       "</div>\n",
       "<div class=\"cas-results-key\"><hr/><b>&#167; casTable</b></div>\n",
       "<div class=\"cas-results-body\">\n",
       "<div>CASTable('TOYTEXT_TRAINING', caslib='CASUSER(ethem_kinginthenorth)')</div>\n",
       "</div>\n",
       "<div class=\"cas-output-area\"></div>\n",
       "<p class=\"cas-results-performance\"><small><span class=\"cas-elapsed\">elapsed 0.00424s</span> &#183; <span class=\"cas-user\">user 0.001s</span> &#183; <span class=\"cas-sys\">sys 0.000111s</span> &#183; <span class=\"cas-memory\">mem 0.747MB</span></small></p>"
      ],
      "text/plain": [
       "[caslib]\n",
       "\n",
       " 'CASUSER(ethem_kinginthenorth)'\n",
       "\n",
       "[tableName]\n",
       "\n",
       " 'TOYTEXT_TRAINING'\n",
       "\n",
       "[casTable]\n",
       "\n",
       " CASTable('TOYTEXT_TRAINING', caslib='CASUSER(ethem_kinginthenorth)')\n",
       "\n",
       "+ Elapsed: 0.00424s, user: 0.001s, sys: 0.000111s, mem: 0.747mb"
      ]
     },
     "execution_count": 3,
     "metadata": {},
     "output_type": "execute_result"
    }
   ],
   "source": [
    "# toy dataset\n",
    "# for title generation training\n",
    "try:\n",
    "    from StringIO import StringIO\n",
    "except ImportError:\n",
    "    from io import StringIO\n",
    "import swat.cas.datamsghandlers as dmh\n",
    "\n",
    "toytext = StringIO('''text,title\n",
    "text,title\n",
    "\"Ten more moons have been confirmed to orbit around Jupiter, bringing the planet's total known satellite count to 79. That's the highest number of moons of any planet in the Solar System. And these newly discovered space rocks are giving astronomers insight as to why the Jupiter system looks like it does today.\",\"Astronomers have found a new crop of moons around Jupiter, and one of them is a weirdo\"\n",
    "\"A deeply golden, even slightly orange handful of fire rises in the dusk each day and spends the entire night crossing low across the south sky. That imposing mass of celestial flame and fame is none other than the most fascinating of all Earth's fellow worlds, the planet Mars - making its closest approach to Earth in 15 years just two weeks from now.\",\"Enjoying the view of Mars? You ain't seen nothing yet\"\n",
    "\"Early this year, NASA announced an updated schedule of commercial crew test flights. According to that schedule, Boeing would launch an uncrewed test flight of its CST-100 Starliner spacecraft in August, followed by a crewed test flight in November. SpaceX would also launch an uncrewed test flight of its Crew Dragon (aka Dragon 2) spacecraft in August, with a crewed test to follow in December. If all went as planned, both companies would be in line to be certified by NASA in early 2019 to carry astronauts on routine ISS missions, ending reliance on Soyuz seats that NASA will lose access to in late 2019.\",\"When will commercial crew launch?\"\n",
    "\"There is a new radio telescope up and running based in Karoo, South Africa. The MeerKAT (Karoo Array Telescope), as it's named, operated by the South African Radio Astronomy Observatory, is already producing brilliant images of the super massive black hole that is at our galaxy's center, 25,000 light years away.\",\"A new telescope shows the center of the Milky Way in dazzling, fiery detail\"\n",
    "\"Diamonds found in beneath the surface, in a part known as the roots of cratons. These are deep underground and cannot be reached by any current technology. The stash was discovered by studying the sound waves of earthquakes. Diamonds speed up the passing of sound waves, giving away the presence of the precious jewel\",\"Diamonds are NOT so rare after all\"\n",
    "\"Even if you stare closely at this seemingly grainy image, you might not be able to tell there's anything to it besides visual noise. But it's not static -- it's a sliver of the distant universe, and every little pinprick of light is a galaxy.\",\"Look Closely -- Every Point of Light in This Image Is a Galaxy\"\n",
    "\"Australian scientists have achieved a new milestone in their approach to creating a quantum computer chip in silicon, demonstrating the ability to tune the control frequency of a qubit by engineering its atomic configuration.\",\"Scientists Unlock Signal Frequency Control of Precision Atom Qubits\"\n",
    "\"Once again, scientists have shown that Albert Einstein's theory of special relativity is right -- this time, thanks to a particle detector buried deep beneath Antarctica.\",\"Right Again, Einstein: Special Relativity Works Even in Ghostly High-Energy Neutrinos\"\n",
    "''')\n",
    "handler = dmh.CSV(toytext, skipinitialspace=True)\n",
    "conn.addtable(table='toytext_training', replace=True, **handler.args.addtable)"
   ]
  },
  {
   "cell_type": "markdown",
   "metadata": {},
   "source": [
    "<h3>Create Test Data Set and Load as CAS Table</h3>"
   ]
  },
  {
   "cell_type": "markdown",
   "metadata": {},
   "source": [
    "Now create the toy test data set for the text generation example. The toy data set is comprised of text input. Each observation of the text input contains a text passage (up to several sentences in length), and a title that summarizes the text passage. \n",
    "\n",
    "Use data handler and the `addtable()` function to upload `toytext_test` to the CAS server as a CAS table named  `TOYTEXT_TEST`."
   ]
  },
  {
   "cell_type": "code",
   "execution_count": 4,
   "metadata": {},
   "outputs": [
    {
     "data": {
      "text/html": [
       "<div class=\"cas-results-key\"><b>&#167; caslib</b></div>\n",
       "<div class=\"cas-results-body\">\n",
       "<div>CASUSER(ethem_kinginthenorth)</div>\n",
       "</div>\n",
       "<div class=\"cas-results-key\"><hr/><b>&#167; tableName</b></div>\n",
       "<div class=\"cas-results-body\">\n",
       "<div>TOYTEXT_TEST</div>\n",
       "</div>\n",
       "<div class=\"cas-results-key\"><hr/><b>&#167; casTable</b></div>\n",
       "<div class=\"cas-results-body\">\n",
       "<div>CASTable('TOYTEXT_TEST', caslib='CASUSER(ethem_kinginthenorth)')</div>\n",
       "</div>\n",
       "<div class=\"cas-output-area\"></div>\n",
       "<p class=\"cas-results-performance\"><small><span class=\"cas-elapsed\">elapsed 0.00341s</span> &#183; <span class=\"cas-user\">user 0.000794s</span> &#183; <span class=\"cas-memory\">mem 0.719MB</span></small></p>"
      ],
      "text/plain": [
       "[caslib]\n",
       "\n",
       " 'CASUSER(ethem_kinginthenorth)'\n",
       "\n",
       "[tableName]\n",
       "\n",
       " 'TOYTEXT_TEST'\n",
       "\n",
       "[casTable]\n",
       "\n",
       " CASTable('TOYTEXT_TEST', caslib='CASUSER(ethem_kinginthenorth)')\n",
       "\n",
       "+ Elapsed: 0.00341s, user: 0.000794s, mem: 0.719mb"
      ]
     },
     "execution_count": 4,
     "metadata": {},
     "output_type": "execute_result"
    }
   ],
   "source": [
    " # for title generation scoring\n",
    "toytext = StringIO('''text,title\n",
    "\"Ten more moons have been confirmed to orbit around Jupiter, bringing the planet's total known satellite count to 79. That's the highest number of moons of any planet in the Solar System. And these newly discovered space rocks are giving astronomers insight as to why the Jupiter system looks like it does today.\",\"Astronomers have found a new crop of moons around Jupiter, and one of them is a weirdo\"\n",
    "\"A deeply golden, even slightly orange handful of fire rises in the dusk each day and spends the entire night crossing low across the south sky. That imposing mass of celestial flame and fame is none other than the most fascinating of all Earth's fellow worlds, the planet Mars - making its closest approach to Earth in 15 years just two weeks from now.\",\"Enjoying the view of Mars? You ain't seen nothing yet\"\n",
    "\"Early this year, NASA announced an updated schedule of commercial crew test flights. According to that schedule, Boeing would launch an uncrewed test flight of its CST-100 Starliner spacecraft in August, followed by a crewed test flight in November. SpaceX would also launch an uncrewed test flight of its Crew Dragon (aka Dragon 2) spacecraft in August, with a crewed test to follow in December. If all went as planned, both companies would be in line to be certified by NASA in early 2019 to carry astronauts on routine ISS missions, ending reliance on Soyuz seats that NASA will lose access to in late 2019.\",\"When will commercial crew launch?\"\n",
    "''')\n",
    "handler = dmh.CSV(toytext, skipinitialspace=True)\n",
    "conn.addtable(table='toytext_test', replace=True, **handler.args.addtable)"
   ]
  },
  {
   "cell_type": "markdown",
   "metadata": {},
   "source": [
    "<h3>Import DLPy Package and Classes</h3>\n"
   ]
  },
  {
   "cell_type": "markdown",
   "metadata": {},
   "source": [
    "Now import the DLPy API for the text generation task in the following code. \n",
    "\n",
    "First, import the `Sequential` class for network models. Then import the `TextParms` class from DLPy model, the `Bidirectional` class from DLPy blocks, and the `TextGeneration` class from DLPy applications. "
   ]
  },
  {
   "cell_type": "code",
   "execution_count": 5,
   "metadata": {},
   "outputs": [],
   "source": [
    "# Import DLPy\n",
    "import dlpy\n",
    "from dlpy import Sequential\n",
    "from dlpy import *\n",
    "from dlpy.model import TextParms\n",
    "from dlpy.blocks import Bidirectional\n",
    "from dlpy.applications import TextGeneration"
   ]
  },
  {
   "cell_type": "markdown",
   "metadata": {},
   "source": [
    "<h3> Create and Define RNN Text Generation Model </h3>\n"
   ]
  },
  {
   "cell_type": "markdown",
   "metadata": {},
   "source": [
    "The environment, data, and tools are defined. Now create a RNN model for text generation and define its architecture. Use DLPy to create a text generation model named `text_generation_model`. The architecture should include 50 neurons per layer and use 4 blocks (3 bi-directional blocks followed by a recurrent layer), as follows:"
   ]
  },
  {
   "cell_type": "code",
   "execution_count": 6,
   "metadata": {},
   "outputs": [
    {
     "name": "stdout",
     "output_type": "stream",
     "text": [
      "NOTE: Recurrent layer added.\n",
      "NOTE: Output layer added.\n",
      "NOTE: Model compiled successfully.\n"
     ]
    }
   ],
   "source": [
    "# create an RNN model for text generation\n",
    "# this model has 50 neurons in each layer \n",
    "# 3 bi-directional blocks and a text generation layer\n",
    "text_generation_model = TextGeneration(conn, neurons=50, n_blocks=4)"
   ]
  },
  {
   "cell_type": "markdown",
   "metadata": {},
   "source": [
    "Use the `plot_network()` function to visualize the DAG for the text generation network `text_generation_model` created with DLPy."
   ]
  },
  {
   "cell_type": "code",
   "execution_count": 7,
   "metadata": {},
   "outputs": [
    {
     "data": {
      "image/svg+xml": [
       "<?xml version=\"1.0\" encoding=\"UTF-8\" standalone=\"no\"?>\n",
       "<!DOCTYPE svg PUBLIC \"-//W3C//DTD SVG 1.1//EN\"\n",
       " \"http://www.w3.org/Graphics/SVG/1.1/DTD/svg11.dtd\">\n",
       "<!-- Generated by graphviz version 2.40.1 (20161225.0304)\n",
       " -->\n",
       "<!-- Title: text_generator Pages: 1 -->\n",
       "<svg width=\"484pt\" height=\"381pt\"\n",
       " viewBox=\"0.00 0.00 484.00 381.00\" xmlns=\"http://www.w3.org/2000/svg\" xmlns:xlink=\"http://www.w3.org/1999/xlink\">\n",
       "<g id=\"graph0\" class=\"graph\" transform=\"scale(1 1) rotate(0) translate(4 377)\">\n",
       "<title>text_generator</title>\n",
       "<polygon fill=\"#ffffff\" stroke=\"transparent\" points=\"-4,4 -4,-377 480,-377 480,4 -4,4\"/>\n",
       "<!-- input_layer_to_bidirectional_rnn -->\n",
       "<g id=\"node1\" class=\"node\">\n",
       "<title>input_layer_to_bidirectional_rnn</title>\n",
       "<polygon fill=\"#3288bd\" fill-opacity=\"0.250980\" stroke=\"#3288bd\" points=\"102.5,-350.5 102.5,-372.5 360.5,-372.5 360.5,-350.5 102.5,-350.5\"/>\n",
       "<text text-anchor=\"middle\" x=\"231.5\" y=\"-357.8\" font-family=\"Helvetica,sans-Serif\" font-size=\"14.00\" fill=\"#000000\">input_layer_to_bidirectional_rnn(input)</text>\n",
       "</g>\n",
       "<!-- bi_gru_layer_0B1 -->\n",
       "<g id=\"node2\" class=\"node\">\n",
       "<title>bi_gru_layer_0B1</title>\n",
       "<polygon fill=\"#abdda4\" fill-opacity=\"0.250980\" stroke=\"#abdda4\" points=\"17,-280.5 17,-302.5 214,-302.5 214,-280.5 17,-280.5\"/>\n",
       "<text text-anchor=\"middle\" x=\"115.5\" y=\"-287.8\" font-family=\"Helvetica,sans-Serif\" font-size=\"14.00\" fill=\"#000000\">bi_gru_layer_0B1(recurrent)</text>\n",
       "</g>\n",
       "<!-- input_layer_to_bidirectional_rnn&#45;&gt;bi_gru_layer_0B1 -->\n",
       "<g id=\"edge1\" class=\"edge\">\n",
       "<title>input_layer_to_bidirectional_rnn&#45;&gt;bi_gru_layer_0B1</title>\n",
       "<path fill=\"none\" stroke=\"#5677f3\" d=\"M213.1195,-350.4083C194.1138,-338.9394 164.2361,-320.9097 142.5376,-307.8158\"/>\n",
       "<polygon fill=\"#5677f3\" stroke=\"#5677f3\" points=\"144.1648,-304.7099 133.7946,-302.5398 140.5481,-310.7032 144.1648,-304.7099\"/>\n",
       "<text text-anchor=\"middle\" x=\"186.5\" y=\"-324\" font-family=\"Helvetica,sans-Serif\" font-size=\"10.00\" fill=\"#000000\"> 0 </text>\n",
       "</g>\n",
       "<!-- bi_gru_layer_1B1 -->\n",
       "<g id=\"node3\" class=\"node\">\n",
       "<title>bi_gru_layer_1B1</title>\n",
       "<polygon fill=\"#abdda4\" fill-opacity=\"0.250980\" stroke=\"#abdda4\" points=\"250,-280.5 250,-302.5 447,-302.5 447,-280.5 250,-280.5\"/>\n",
       "<text text-anchor=\"middle\" x=\"348.5\" y=\"-287.8\" font-family=\"Helvetica,sans-Serif\" font-size=\"14.00\" fill=\"#000000\">bi_gru_layer_1B1(recurrent)</text>\n",
       "</g>\n",
       "<!-- input_layer_to_bidirectional_rnn&#45;&gt;bi_gru_layer_1B1 -->\n",
       "<g id=\"edge3\" class=\"edge\">\n",
       "<title>input_layer_to_bidirectional_rnn&#45;&gt;bi_gru_layer_1B1</title>\n",
       "<path fill=\"none\" stroke=\"#5677f3\" d=\"M250.039,-350.4083C269.2085,-338.9394 299.3438,-320.9097 321.2293,-307.8158\"/>\n",
       "<polygon fill=\"#5677f3\" stroke=\"#5677f3\" points=\"323.2633,-310.6775 330.0477,-302.5398 319.6694,-304.6705 323.2633,-310.6775\"/>\n",
       "<text text-anchor=\"middle\" x=\"302.5\" y=\"-324\" font-family=\"Helvetica,sans-Serif\" font-size=\"10.00\" fill=\"#000000\"> 0 </text>\n",
       "</g>\n",
       "<!-- bi_gru_layer_0B1&#45;&gt;bi_gru_layer_0B1 -->\n",
       "<g id=\"edge2\" class=\"edge\">\n",
       "<title>bi_gru_layer_0B1&#45;&gt;bi_gru_layer_0B1</title>\n",
       "<path fill=\"none\" stroke=\"#5677f3\" d=\"M214.0908,-296.863C224.9735,-295.8443 232,-294.0566 232,-291.5 232,-289.8622 229.1163,-288.5399 224.1825,-287.5332\"/>\n",
       "<polygon fill=\"#5677f3\" stroke=\"#5677f3\" points=\"224.4761,-284.0406 214.0908,-286.137 223.5167,-290.9746 224.4761,-284.0406\"/>\n",
       "</g>\n",
       "<!-- bi_gru_layer_0B2 -->\n",
       "<g id=\"node4\" class=\"node\">\n",
       "<title>bi_gru_layer_0B2</title>\n",
       "<polygon fill=\"#abdda4\" fill-opacity=\"0.250980\" stroke=\"#abdda4\" points=\"17,-210.5 17,-232.5 214,-232.5 214,-210.5 17,-210.5\"/>\n",
       "<text text-anchor=\"middle\" x=\"115.5\" y=\"-217.8\" font-family=\"Helvetica,sans-Serif\" font-size=\"14.00\" fill=\"#000000\">bi_gru_layer_0B2(recurrent)</text>\n",
       "</g>\n",
       "<!-- bi_gru_layer_0B1&#45;&gt;bi_gru_layer_0B2 -->\n",
       "<g id=\"edge5\" class=\"edge\">\n",
       "<title>bi_gru_layer_0B1&#45;&gt;bi_gru_layer_0B2</title>\n",
       "<path fill=\"none\" stroke=\"#5677f3\" d=\"M115.5,-280.2533C115.5,-270.3113 115.5,-255.5277 115.5,-243.2776\"/>\n",
       "<polygon fill=\"#5677f3\" stroke=\"#5677f3\" points=\"119.0001,-242.9513 115.5,-232.9513 112.0001,-242.9514 119.0001,-242.9513\"/>\n",
       "<text text-anchor=\"middle\" x=\"124\" y=\"-254\" font-family=\"Helvetica,sans-Serif\" font-size=\"10.00\" fill=\"#000000\"> 50 </text>\n",
       "</g>\n",
       "<!-- bi_gru_layer_1B2 -->\n",
       "<g id=\"node5\" class=\"node\">\n",
       "<title>bi_gru_layer_1B2</title>\n",
       "<polygon fill=\"#abdda4\" fill-opacity=\"0.250980\" stroke=\"#abdda4\" points=\"250,-210.5 250,-232.5 447,-232.5 447,-210.5 250,-210.5\"/>\n",
       "<text text-anchor=\"middle\" x=\"348.5\" y=\"-217.8\" font-family=\"Helvetica,sans-Serif\" font-size=\"14.00\" fill=\"#000000\">bi_gru_layer_1B2(recurrent)</text>\n",
       "</g>\n",
       "<!-- bi_gru_layer_0B1&#45;&gt;bi_gru_layer_1B2 -->\n",
       "<g id=\"edge8\" class=\"edge\">\n",
       "<title>bi_gru_layer_0B1&#45;&gt;bi_gru_layer_1B2</title>\n",
       "<path fill=\"none\" stroke=\"#5677f3\" d=\"M134.4284,-280.3406C150.6621,-271.2182 174.9365,-258.624 197.5,-251 217.7072,-244.1722 240.0002,-238.7336 261.1116,-234.482\"/>\n",
       "<polygon fill=\"#5677f3\" stroke=\"#5677f3\" points=\"261.8924,-237.8958 271.04,-232.5504 260.5556,-231.0246 261.8924,-237.8958\"/>\n",
       "<text text-anchor=\"middle\" x=\"206\" y=\"-254\" font-family=\"Helvetica,sans-Serif\" font-size=\"10.00\" fill=\"#000000\"> 50 </text>\n",
       "</g>\n",
       "<!-- bi_gru_layer_1B1&#45;&gt;bi_gru_layer_1B1 -->\n",
       "<g id=\"edge4\" class=\"edge\">\n",
       "<title>bi_gru_layer_1B1&#45;&gt;bi_gru_layer_1B1</title>\n",
       "<path fill=\"none\" stroke=\"#5677f3\" d=\"M447.0908,-296.863C457.9735,-295.8443 465,-294.0566 465,-291.5 465,-289.8622 462.1163,-288.5399 457.1825,-287.5332\"/>\n",
       "<polygon fill=\"#5677f3\" stroke=\"#5677f3\" points=\"457.4761,-284.0406 447.0908,-286.137 456.5167,-290.9746 457.4761,-284.0406\"/>\n",
       "</g>\n",
       "<!-- bi_gru_layer_1B1&#45;&gt;bi_gru_layer_0B2 -->\n",
       "<g id=\"edge6\" class=\"edge\">\n",
       "<title>bi_gru_layer_1B1&#45;&gt;bi_gru_layer_0B2</title>\n",
       "<path fill=\"none\" stroke=\"#5677f3\" d=\"M311.8374,-280.4855C271.328,-268.3153 206.0039,-248.69 161.9449,-235.4534\"/>\n",
       "<polygon fill=\"#5677f3\" stroke=\"#5677f3\" points=\"162.9173,-232.0911 152.3331,-232.5658 160.9032,-238.7951 162.9173,-232.0911\"/>\n",
       "<text text-anchor=\"middle\" x=\"255\" y=\"-254\" font-family=\"Helvetica,sans-Serif\" font-size=\"10.00\" fill=\"#000000\"> 50 </text>\n",
       "</g>\n",
       "<!-- bi_gru_layer_1B1&#45;&gt;bi_gru_layer_1B2 -->\n",
       "<g id=\"edge9\" class=\"edge\">\n",
       "<title>bi_gru_layer_1B1&#45;&gt;bi_gru_layer_1B2</title>\n",
       "<path fill=\"none\" stroke=\"#5677f3\" d=\"M348.5,-280.2533C348.5,-270.3113 348.5,-255.5277 348.5,-243.2776\"/>\n",
       "<polygon fill=\"#5677f3\" stroke=\"#5677f3\" points=\"352.0001,-242.9513 348.5,-232.9513 345.0001,-242.9514 352.0001,-242.9513\"/>\n",
       "<text text-anchor=\"middle\" x=\"357\" y=\"-254\" font-family=\"Helvetica,sans-Serif\" font-size=\"10.00\" fill=\"#000000\"> 50 </text>\n",
       "</g>\n",
       "<!-- bi_gru_layer_0B2&#45;&gt;bi_gru_layer_0B2 -->\n",
       "<g id=\"edge7\" class=\"edge\">\n",
       "<title>bi_gru_layer_0B2&#45;&gt;bi_gru_layer_0B2</title>\n",
       "<path fill=\"none\" stroke=\"#5677f3\" d=\"M214.0908,-226.863C224.9735,-225.8443 232,-224.0566 232,-221.5 232,-219.8622 229.1163,-218.5399 224.1825,-217.5332\"/>\n",
       "<polygon fill=\"#5677f3\" stroke=\"#5677f3\" points=\"224.4761,-214.0406 214.0908,-216.137 223.5167,-220.9746 224.4761,-214.0406\"/>\n",
       "</g>\n",
       "<!-- bi_gru_lastlayer0B1 -->\n",
       "<g id=\"node6\" class=\"node\">\n",
       "<title>bi_gru_lastlayer0B1</title>\n",
       "<polygon fill=\"#abdda4\" fill-opacity=\"0.250980\" stroke=\"#abdda4\" points=\"0,-140.5 0,-162.5 211,-162.5 211,-140.5 0,-140.5\"/>\n",
       "<text text-anchor=\"middle\" x=\"105.5\" y=\"-147.8\" font-family=\"Helvetica,sans-Serif\" font-size=\"14.00\" fill=\"#000000\">bi_gru_lastlayer0B1(recurrent)</text>\n",
       "</g>\n",
       "<!-- bi_gru_layer_0B2&#45;&gt;bi_gru_lastlayer0B1 -->\n",
       "<g id=\"edge11\" class=\"edge\">\n",
       "<title>bi_gru_layer_0B2&#45;&gt;bi_gru_lastlayer0B1</title>\n",
       "<path fill=\"none\" stroke=\"#5677f3\" d=\"M113.8933,-210.2533C112.4585,-200.2098 110.3179,-185.2255 108.5576,-172.9034\"/>\n",
       "<polygon fill=\"#5677f3\" stroke=\"#5677f3\" points=\"112.015,-172.3558 107.1359,-162.9513 105.0854,-173.3458 112.015,-172.3558\"/>\n",
       "<text text-anchor=\"middle\" x=\"120\" y=\"-184\" font-family=\"Helvetica,sans-Serif\" font-size=\"10.00\" fill=\"#000000\"> 50 </text>\n",
       "</g>\n",
       "<!-- bi_gru_lastlayer1B1 -->\n",
       "<g id=\"node7\" class=\"node\">\n",
       "<title>bi_gru_lastlayer1B1</title>\n",
       "<polygon fill=\"#abdda4\" fill-opacity=\"0.250980\" stroke=\"#abdda4\" points=\"247,-140.5 247,-162.5 458,-162.5 458,-140.5 247,-140.5\"/>\n",
       "<text text-anchor=\"middle\" x=\"352.5\" y=\"-147.8\" font-family=\"Helvetica,sans-Serif\" font-size=\"14.00\" fill=\"#000000\">bi_gru_lastlayer1B1(recurrent)</text>\n",
       "</g>\n",
       "<!-- bi_gru_layer_0B2&#45;&gt;bi_gru_lastlayer1B1 -->\n",
       "<g id=\"edge14\" class=\"edge\">\n",
       "<title>bi_gru_layer_0B2&#45;&gt;bi_gru_lastlayer1B1</title>\n",
       "<path fill=\"none\" stroke=\"#5677f3\" d=\"M148.2546,-210.4633C173.6031,-202.0458 209.6407,-190.3471 241.5,-181 260.146,-175.5295 280.6813,-169.949 298.9655,-165.135\"/>\n",
       "<polygon fill=\"#5677f3\" stroke=\"#5677f3\" points=\"300.0769,-168.4621 308.8654,-162.545 298.3051,-161.69 300.0769,-168.4621\"/>\n",
       "<text text-anchor=\"middle\" x=\"250\" y=\"-184\" font-family=\"Helvetica,sans-Serif\" font-size=\"10.00\" fill=\"#000000\"> 50 </text>\n",
       "</g>\n",
       "<!-- bi_gru_layer_1B2&#45;&gt;bi_gru_layer_1B2 -->\n",
       "<g id=\"edge10\" class=\"edge\">\n",
       "<title>bi_gru_layer_1B2&#45;&gt;bi_gru_layer_1B2</title>\n",
       "<path fill=\"none\" stroke=\"#5677f3\" d=\"M447.0908,-226.863C457.9735,-225.8443 465,-224.0566 465,-221.5 465,-219.8622 462.1163,-218.5399 457.1825,-217.5332\"/>\n",
       "<polygon fill=\"#5677f3\" stroke=\"#5677f3\" points=\"457.4761,-214.0406 447.0908,-216.137 456.5167,-220.9746 457.4761,-214.0406\"/>\n",
       "</g>\n",
       "<!-- bi_gru_layer_1B2&#45;&gt;bi_gru_lastlayer0B1 -->\n",
       "<g id=\"edge12\" class=\"edge\">\n",
       "<title>bi_gru_layer_1B2&#45;&gt;bi_gru_lastlayer0B1</title>\n",
       "<path fill=\"none\" stroke=\"#5677f3\" d=\"M327.5898,-210.4099C309.6899,-201.3297 283.0022,-188.7587 258.5,-181 237.1419,-174.2369 213.5906,-168.7623 191.5004,-164.4503\"/>\n",
       "<polygon fill=\"#5677f3\" stroke=\"#5677f3\" points=\"191.9433,-160.972 181.4667,-162.5504 190.6409,-167.8498 191.9433,-160.972\"/>\n",
       "<text text-anchor=\"middle\" x=\"294\" y=\"-184\" font-family=\"Helvetica,sans-Serif\" font-size=\"10.00\" fill=\"#000000\"> 50 </text>\n",
       "</g>\n",
       "<!-- bi_gru_layer_1B2&#45;&gt;bi_gru_lastlayer1B1 -->\n",
       "<g id=\"edge15\" class=\"edge\">\n",
       "<title>bi_gru_layer_1B2&#45;&gt;bi_gru_lastlayer1B1</title>\n",
       "<path fill=\"none\" stroke=\"#5677f3\" d=\"M349.1427,-210.2533C349.7108,-200.3113 350.5556,-185.5277 351.2556,-173.2776\"/>\n",
       "<polygon fill=\"#5677f3\" stroke=\"#5677f3\" points=\"354.7693,-173.1348 351.8456,-162.9513 347.7807,-172.7354 354.7693,-173.1348\"/>\n",
       "<text text-anchor=\"middle\" x=\"359\" y=\"-184\" font-family=\"Helvetica,sans-Serif\" font-size=\"10.00\" fill=\"#000000\"> 50 </text>\n",
       "</g>\n",
       "<!-- bi_gru_lastlayer0B1&#45;&gt;bi_gru_lastlayer0B1 -->\n",
       "<g id=\"edge13\" class=\"edge\">\n",
       "<title>bi_gru_lastlayer0B1&#45;&gt;bi_gru_lastlayer0B1</title>\n",
       "<path fill=\"none\" stroke=\"#5677f3\" d=\"M211.3443,-156.7404C222.1205,-155.7038 229,-153.957 229,-151.5 229,-149.926 226.1766,-148.6434 221.3142,-147.6523\"/>\n",
       "<polygon fill=\"#5677f3\" stroke=\"#5677f3\" points=\"221.7324,-144.1769 211.3443,-146.2596 220.7639,-151.1095 221.7324,-144.1769\"/>\n",
       "</g>\n",
       "<!-- Rec.1 -->\n",
       "<g id=\"node8\" class=\"node\">\n",
       "<title>Rec.1</title>\n",
       "<polygon fill=\"#abdda4\" fill-opacity=\"0.250980\" stroke=\"#abdda4\" points=\"165,-70.5 165,-92.5 292,-92.5 292,-70.5 165,-70.5\"/>\n",
       "<text text-anchor=\"middle\" x=\"228.5\" y=\"-77.8\" font-family=\"Helvetica,sans-Serif\" font-size=\"14.00\" fill=\"#000000\">Rec.1(recurrent)</text>\n",
       "</g>\n",
       "<!-- bi_gru_lastlayer0B1&#45;&gt;Rec.1 -->\n",
       "<g id=\"edge17\" class=\"edge\">\n",
       "<title>bi_gru_lastlayer0B1&#45;&gt;Rec.1</title>\n",
       "<path fill=\"none\" stroke=\"#5677f3\" d=\"M124.9897,-140.4083C145.2322,-128.8882 177.106,-110.7486 200.1384,-97.6407\"/>\n",
       "<polygon fill=\"#5677f3\" stroke=\"#5677f3\" points=\"202.1415,-100.5279 209.1015,-92.5398 198.6792,-94.4441 202.1415,-100.5279\"/>\n",
       "<text text-anchor=\"middle\" x=\"183\" y=\"-114\" font-family=\"Helvetica,sans-Serif\" font-size=\"10.00\" fill=\"#000000\"> 50 </text>\n",
       "</g>\n",
       "<!-- bi_gru_lastlayer1B1&#45;&gt;bi_gru_lastlayer1B1 -->\n",
       "<g id=\"edge16\" class=\"edge\">\n",
       "<title>bi_gru_lastlayer1B1&#45;&gt;bi_gru_lastlayer1B1</title>\n",
       "<path fill=\"none\" stroke=\"#5677f3\" d=\"M458.3443,-156.7404C469.1205,-155.7038 476,-153.957 476,-151.5 476,-149.926 473.1766,-148.6434 468.3142,-147.6523\"/>\n",
       "<polygon fill=\"#5677f3\" stroke=\"#5677f3\" points=\"468.7324,-144.1769 458.3443,-146.2596 467.7639,-151.1095 468.7324,-144.1769\"/>\n",
       "</g>\n",
       "<!-- bi_gru_lastlayer1B1&#45;&gt;Rec.1 -->\n",
       "<g id=\"edge18\" class=\"edge\">\n",
       "<title>bi_gru_lastlayer1B1&#45;&gt;Rec.1</title>\n",
       "<path fill=\"none\" stroke=\"#5677f3\" d=\"M332.8518,-140.4083C312.3541,-128.837 280.0259,-110.5872 256.7831,-97.4662\"/>\n",
       "<polygon fill=\"#5677f3\" stroke=\"#5677f3\" points=\"258.4851,-94.4079 248.0562,-92.5398 255.0439,-100.5037 258.4851,-94.4079\"/>\n",
       "<text text-anchor=\"middle\" x=\"306\" y=\"-114\" font-family=\"Helvetica,sans-Serif\" font-size=\"10.00\" fill=\"#000000\"> 50 </text>\n",
       "</g>\n",
       "<!-- Rec.1&#45;&gt;Rec.1 -->\n",
       "<g id=\"edge19\" class=\"edge\">\n",
       "<title>Rec.1&#45;&gt;Rec.1</title>\n",
       "<path fill=\"none\" stroke=\"#5677f3\" d=\"M292.058,-87.4252C302.6744,-86.5962 310,-84.6211 310,-81.5 310,-79.5005 306.9936,-77.9714 302.0415,-76.9126\"/>\n",
       "<polygon fill=\"#5677f3\" stroke=\"#5677f3\" points=\"302.4343,-73.4341 292.058,-75.5748 301.5046,-80.3721 302.4343,-73.4341\"/>\n",
       "</g>\n",
       "<!-- Output1 -->\n",
       "<g id=\"node9\" class=\"node\">\n",
       "<title>Output1</title>\n",
       "<polygon fill=\"#5e4fa2\" fill-opacity=\"0.125490\" stroke=\"#5e4fa2\" points=\"166.5,-.5 166.5,-22.5 290.5,-22.5 290.5,-.5 166.5,-.5\"/>\n",
       "<text text-anchor=\"middle\" x=\"228.5\" y=\"-7.8\" font-family=\"Helvetica,sans-Serif\" font-size=\"14.00\" fill=\"#000000\">Output1(output)</text>\n",
       "</g>\n",
       "<!-- Rec.1&#45;&gt;Output1 -->\n",
       "<g id=\"edge20\" class=\"edge\">\n",
       "<title>Rec.1&#45;&gt;Output1</title>\n",
       "<path fill=\"none\" stroke=\"#5677f3\" d=\"M228.5,-70.2533C228.5,-60.3113 228.5,-45.5277 228.5,-33.2776\"/>\n",
       "<polygon fill=\"#5677f3\" stroke=\"#5677f3\" points=\"232.0001,-32.9513 228.5,-22.9513 225.0001,-32.9514 232.0001,-32.9513\"/>\n",
       "<text text-anchor=\"middle\" x=\"237\" y=\"-44\" font-family=\"Helvetica,sans-Serif\" font-size=\"10.00\" fill=\"#000000\"> 50 </text>\n",
       "</g>\n",
       "</g>\n",
       "</svg>\n"
      ],
      "text/plain": [
       "<graphviz.dot.Digraph at 0x7f373039e9e8>"
      ]
     },
     "execution_count": 7,
     "metadata": {},
     "output_type": "execute_result"
    }
   ],
   "source": [
    "text_generation_model.plot_network()"
   ]
  },
  {
   "cell_type": "markdown",
   "metadata": {},
   "source": [
    "<h3> Train the RNN Text Generation Model </h3>\n"
   ]
  },
  {
   "cell_type": "markdown",
   "metadata": {},
   "source": [
    "Use `fit()` to train the RNN `text_generation_model` using `toytext_training` data. Within `toytext_training`, use the text data in the input field `text` to predict generate text for the target `title`. Use a pre-trained word embeddings file `word_embeddings` and an output embedding file `keyedGlove`. Use a mini-batch size of 1, perform a max of 15 epochs, use a learning rate of 0.01, and use basic log reporting."
   ]
  },
  {
   "cell_type": "code",
   "execution_count": 8,
   "metadata": {},
   "outputs": [
    {
     "name": "stdout",
     "output_type": "stream",
     "text": [
      "NOTE: Training from scratch.\n",
      "NOTE:  The Synchronous mode is enabled.\n",
      "NOTE:  The total number of parameters is 177477.\n",
      "NOTE:  The approximate memory cost is 119.00 MB.\n",
      "NOTE:  Loading weights cost       0.00 (s).\n",
      "NOTE:  Initializing each layer cost       2.99 (s).\n",
      "NOTE:  The total number of threads on each worker is 72.\n",
      "NOTE:  The total mini-batch size per thread on each worker is 1.\n",
      "NOTE:  The maximum mini-batch size across all workers for the synchronous mode is 72.\n",
      "NOTE:  Target variable: title\n",
      "NOTE:  Number of input variables:     1\n",
      "NOTE:  Number of text input variables:      1\n",
      "NOTE:  Epoch Learning Rate        Loss  Fit Error   Time(s)\n",
      "NOTE:  0          0.01           4.456          1     0.08\n",
      "NOTE:  1          0.01           4.431     0.9889     0.07\n",
      "NOTE:  2          0.01            4.39     0.9248     0.07\n",
      "NOTE:  3          0.01           4.356     0.9815     0.07\n",
      "NOTE:  4          0.01           4.333     0.9444     0.06\n",
      "NOTE:  5          0.01           4.308     0.9259     0.06\n",
      "NOTE:  6          0.01           4.295     0.8962     0.06\n",
      "NOTE:  7          0.01           4.261     0.8797     0.06\n",
      "NOTE:  8          0.01           4.239     0.8241     0.06\n",
      "NOTE:  9          0.01           4.221     0.8797     0.06\n",
      "NOTE:  10         0.01            4.21     0.8797     0.06\n",
      "NOTE:  11         0.01           4.191     0.8797     0.06\n",
      "NOTE:  12         0.01           4.186     0.8797     0.06\n",
      "NOTE:  13         0.01           4.182     0.8797     0.06\n",
      "NOTE:  14         0.01            4.14     0.8797     0.07\n",
      "NOTE:  The optimization reached the maximum number of epochs.\n",
      "NOTE:  The total time is       0.99 (s).\n"
     ]
    },
    {
     "data": {
      "text/html": [
       "<div class=\"cas-results-key\"><b>&#167; ModelInfo</b></div>\n",
       "<div class=\"cas-results-body\">\n",
       "<div>\n",
       "<style scoped>\n",
       "    .dataframe tbody tr th:only-of-type {\n",
       "        vertical-align: middle;\n",
       "    }\n",
       "\n",
       "    .dataframe tbody tr th {\n",
       "        vertical-align: top;\n",
       "    }\n",
       "\n",
       "    .dataframe thead th {\n",
       "        text-align: right;\n",
       "    }\n",
       "</style>\n",
       "<table border=\"1\" class=\"dataframe\">\n",
       "  <thead>\n",
       "    <tr style=\"text-align: right;\">\n",
       "      <th title=\"\"></th>\n",
       "      <th title=\"Descr\">Descr</th>\n",
       "      <th title=\"Value\">Value</th>\n",
       "    </tr>\n",
       "  </thead>\n",
       "  <tbody>\n",
       "    <tr>\n",
       "      <th>0</th>\n",
       "      <td>Model Name</td>\n",
       "      <td>text_generator</td>\n",
       "    </tr>\n",
       "    <tr>\n",
       "      <th>1</th>\n",
       "      <td>Model Type</td>\n",
       "      <td>Recurrent Neural Network</td>\n",
       "    </tr>\n",
       "    <tr>\n",
       "      <th>2</th>\n",
       "      <td>Number of Layers</td>\n",
       "      <td>9</td>\n",
       "    </tr>\n",
       "    <tr>\n",
       "      <th>3</th>\n",
       "      <td>Number of Input Layers</td>\n",
       "      <td>1</td>\n",
       "    </tr>\n",
       "    <tr>\n",
       "      <th>4</th>\n",
       "      <td>Number of Output Layers</td>\n",
       "      <td>1</td>\n",
       "    </tr>\n",
       "    <tr>\n",
       "      <th>5</th>\n",
       "      <td>Number of Convolutional Layers</td>\n",
       "      <td>0</td>\n",
       "    </tr>\n",
       "    <tr>\n",
       "      <th>6</th>\n",
       "      <td>Number of Pooling Layers</td>\n",
       "      <td>0</td>\n",
       "    </tr>\n",
       "    <tr>\n",
       "      <th>7</th>\n",
       "      <td>Number of Fully Connected Layers</td>\n",
       "      <td>0</td>\n",
       "    </tr>\n",
       "    <tr>\n",
       "      <th>8</th>\n",
       "      <td>Number of Recurrent Layers</td>\n",
       "      <td>7</td>\n",
       "    </tr>\n",
       "    <tr>\n",
       "      <th>9</th>\n",
       "      <td>Number of Weight Parameters</td>\n",
       "      <td>176350</td>\n",
       "    </tr>\n",
       "    <tr>\n",
       "      <th>10</th>\n",
       "      <td>Number of Bias Parameters</td>\n",
       "      <td>1127</td>\n",
       "    </tr>\n",
       "    <tr>\n",
       "      <th>11</th>\n",
       "      <td>Total Number of Model Parameters</td>\n",
       "      <td>177477</td>\n",
       "    </tr>\n",
       "    <tr>\n",
       "      <th>12</th>\n",
       "      <td>Approximate Memory Cost for Training (MB)</td>\n",
       "      <td>119</td>\n",
       "    </tr>\n",
       "  </tbody>\n",
       "</table>\n",
       "</div>\n",
       "</div>\n",
       "<div class=\"cas-results-key\"><hr/><b>&#167; OptIterHistory</b></div>\n",
       "<div class=\"cas-results-body\">\n",
       "<div>\n",
       "<style scoped>\n",
       "    .dataframe tbody tr th:only-of-type {\n",
       "        vertical-align: middle;\n",
       "    }\n",
       "\n",
       "    .dataframe tbody tr th {\n",
       "        vertical-align: top;\n",
       "    }\n",
       "\n",
       "    .dataframe thead th {\n",
       "        text-align: right;\n",
       "    }\n",
       "</style>\n",
       "<table border=\"1\" class=\"dataframe\">\n",
       "  <thead>\n",
       "    <tr style=\"text-align: right;\">\n",
       "      <th title=\"\"></th>\n",
       "      <th title=\"Epoch\">Epoch</th>\n",
       "      <th title=\"LearningRate\">LearningRate</th>\n",
       "      <th title=\"Loss\">Loss</th>\n",
       "      <th title=\"FitError\">FitError</th>\n",
       "    </tr>\n",
       "  </thead>\n",
       "  <tbody>\n",
       "    <tr>\n",
       "      <th>0</th>\n",
       "      <td>1</td>\n",
       "      <td>0.01</td>\n",
       "      <td>4.456467</td>\n",
       "      <td>1.000000</td>\n",
       "    </tr>\n",
       "    <tr>\n",
       "      <th>1</th>\n",
       "      <td>2</td>\n",
       "      <td>0.01</td>\n",
       "      <td>4.430589</td>\n",
       "      <td>0.988889</td>\n",
       "    </tr>\n",
       "    <tr>\n",
       "      <th>2</th>\n",
       "      <td>3</td>\n",
       "      <td>0.01</td>\n",
       "      <td>4.389768</td>\n",
       "      <td>0.924786</td>\n",
       "    </tr>\n",
       "    <tr>\n",
       "      <th>3</th>\n",
       "      <td>4</td>\n",
       "      <td>0.01</td>\n",
       "      <td>4.356455</td>\n",
       "      <td>0.981481</td>\n",
       "    </tr>\n",
       "    <tr>\n",
       "      <th>4</th>\n",
       "      <td>5</td>\n",
       "      <td>0.01</td>\n",
       "      <td>4.333072</td>\n",
       "      <td>0.944444</td>\n",
       "    </tr>\n",
       "    <tr>\n",
       "      <th>5</th>\n",
       "      <td>6</td>\n",
       "      <td>0.01</td>\n",
       "      <td>4.307719</td>\n",
       "      <td>0.925926</td>\n",
       "    </tr>\n",
       "    <tr>\n",
       "      <th>6</th>\n",
       "      <td>7</td>\n",
       "      <td>0.01</td>\n",
       "      <td>4.294540</td>\n",
       "      <td>0.896164</td>\n",
       "    </tr>\n",
       "    <tr>\n",
       "      <th>7</th>\n",
       "      <td>8</td>\n",
       "      <td>0.01</td>\n",
       "      <td>4.260991</td>\n",
       "      <td>0.879681</td>\n",
       "    </tr>\n",
       "    <tr>\n",
       "      <th>8</th>\n",
       "      <td>9</td>\n",
       "      <td>0.01</td>\n",
       "      <td>4.239229</td>\n",
       "      <td>0.824125</td>\n",
       "    </tr>\n",
       "    <tr>\n",
       "      <th>9</th>\n",
       "      <td>10</td>\n",
       "      <td>0.01</td>\n",
       "      <td>4.220531</td>\n",
       "      <td>0.879681</td>\n",
       "    </tr>\n",
       "    <tr>\n",
       "      <th>10</th>\n",
       "      <td>11</td>\n",
       "      <td>0.01</td>\n",
       "      <td>4.209996</td>\n",
       "      <td>0.879681</td>\n",
       "    </tr>\n",
       "    <tr>\n",
       "      <th>11</th>\n",
       "      <td>12</td>\n",
       "      <td>0.01</td>\n",
       "      <td>4.191183</td>\n",
       "      <td>0.879681</td>\n",
       "    </tr>\n",
       "    <tr>\n",
       "      <th>12</th>\n",
       "      <td>13</td>\n",
       "      <td>0.01</td>\n",
       "      <td>4.185978</td>\n",
       "      <td>0.879681</td>\n",
       "    </tr>\n",
       "    <tr>\n",
       "      <th>13</th>\n",
       "      <td>14</td>\n",
       "      <td>0.01</td>\n",
       "      <td>4.182329</td>\n",
       "      <td>0.879681</td>\n",
       "    </tr>\n",
       "    <tr>\n",
       "      <th>14</th>\n",
       "      <td>15</td>\n",
       "      <td>0.01</td>\n",
       "      <td>4.139694</td>\n",
       "      <td>0.879681</td>\n",
       "    </tr>\n",
       "  </tbody>\n",
       "</table>\n",
       "</div>\n",
       "</div>\n",
       "<div class=\"cas-results-key\"><hr/><b>&#167; OutputCasTables</b></div>\n",
       "<div class=\"cas-results-body\">\n",
       "<div>\n",
       "<style scoped>\n",
       "    .dataframe tbody tr th:only-of-type {\n",
       "        vertical-align: middle;\n",
       "    }\n",
       "\n",
       "    .dataframe tbody tr th {\n",
       "        vertical-align: top;\n",
       "    }\n",
       "\n",
       "    .dataframe thead th {\n",
       "        text-align: right;\n",
       "    }\n",
       "</style>\n",
       "<table border=\"1\" class=\"dataframe\">\n",
       "  <thead>\n",
       "    <tr style=\"text-align: right;\">\n",
       "      <th title=\"\"></th>\n",
       "      <th title=\"CAS Library\">casLib</th>\n",
       "      <th title=\"Name\">Name</th>\n",
       "      <th title=\"Number of Rows\">Rows</th>\n",
       "      <th title=\"Number of Columns\">Columns</th>\n",
       "      <th title=\"Table\">casTable</th>\n",
       "    </tr>\n",
       "  </thead>\n",
       "  <tbody>\n",
       "    <tr>\n",
       "      <th>0</th>\n",
       "      <td>CASUSER(ethem_kinginthenorth)</td>\n",
       "      <td>text_generator_weights</td>\n",
       "      <td>177477</td>\n",
       "      <td>3</td>\n",
       "      <td>CASTable('text_generator_weights', caslib='CAS...</td>\n",
       "    </tr>\n",
       "  </tbody>\n",
       "</table>\n",
       "</div>\n",
       "</div>\n",
       "<div class=\"cas-output-area\"></div>\n",
       "<p class=\"cas-results-performance\"><small><span class=\"cas-elapsed\">elapsed 4.36s</span> &#183; <span class=\"cas-user\">user 13.8s</span> &#183; <span class=\"cas-sys\">sys 4.13s</span> &#183; <span class=\"cas-memory\">mem 1.02e+03MB</span></small></p>"
      ],
      "text/plain": [
       "[ModelInfo]\n",
       "\n",
       "                                         Descr                     Value\n",
       " 0                                  Model Name            text_generator\n",
       " 1                                  Model Type  Recurrent Neural Network\n",
       " 2                            Number of Layers                         9\n",
       " 3                      Number of Input Layers                         1\n",
       " 4                     Number of Output Layers                         1\n",
       " 5              Number of Convolutional Layers                         0\n",
       " 6                    Number of Pooling Layers                         0\n",
       " 7            Number of Fully Connected Layers                         0\n",
       " 8                  Number of Recurrent Layers                         7\n",
       " 9                 Number of Weight Parameters                    176350\n",
       " 10                  Number of Bias Parameters                      1127\n",
       " 11           Total Number of Model Parameters                    177477\n",
       " 12  Approximate Memory Cost for Training (MB)                       119\n",
       "\n",
       "[OptIterHistory]\n",
       "\n",
       "     Epoch  LearningRate      Loss  FitError\n",
       " 0       1          0.01  4.456467  1.000000\n",
       " 1       2          0.01  4.430589  0.988889\n",
       " 2       3          0.01  4.389768  0.924786\n",
       " 3       4          0.01  4.356455  0.981481\n",
       " 4       5          0.01  4.333072  0.944444\n",
       " 5       6          0.01  4.307719  0.925926\n",
       " 6       7          0.01  4.294540  0.896164\n",
       " 7       8          0.01  4.260991  0.879681\n",
       " 8       9          0.01  4.239229  0.824125\n",
       " 9      10          0.01  4.220531  0.879681\n",
       " 10     11          0.01  4.209996  0.879681\n",
       " 11     12          0.01  4.191183  0.879681\n",
       " 12     13          0.01  4.185978  0.879681\n",
       " 13     14          0.01  4.182329  0.879681\n",
       " 14     15          0.01  4.139694  0.879681\n",
       "\n",
       "[OutputCasTables]\n",
       "\n",
       "             casLib                    Name    Rows  Columns  \\\n",
       " 0  CASUSER(ethem_kinginthenorth)  text_generator_weights  177477        3   \n",
       " \n",
       "                                             casTable  \n",
       " 0  CASTable('text_generator_weights', caslib='CAS...  \n",
       "\n",
       "+ Elapsed: 4.36s, user: 13.8s, sys: 4.13s, mem: 1.02e+03mb"
      ]
     },
     "execution_count": 8,
     "metadata": {},
     "output_type": "execute_result"
    }
   ],
   "source": [
    "# train the text generation model\n",
    "text_generation_model.fit(data='toytext_training', target='title', inputs=['text'], texts=['text', 'title'],\n",
    "                          text_parms=TextParms(init_input_embeddings='word_embeddings', \n",
    "                                               model_output_embeddings=dict(name='keyedGlove',replace=True)),\n",
    "                          mini_batch_size=1, \n",
    "                          max_epochs=15, \n",
    "                          lr=0.01, \n",
    "                          log_level=2)"
   ]
  },
  {
   "cell_type": "markdown",
   "metadata": {},
   "source": [
    "The resuling trained RNN text generation network has 1 input layer, 3 bi-directional blocks, 1 recurrent layer, and 1 output layer. The model network has 190,177 parameters."
   ]
  },
  {
   "cell_type": "markdown",
   "metadata": {},
   "source": [
    "<h3> Use Trained RNN Text Generation Model to Score Test Data</h3>\n"
   ]
  },
  {
   "cell_type": "markdown",
   "metadata": {},
   "source": [
    "Use `predict()` and `word_embeddings` to score the test data `toytext_test` using the trained RNN model `text_generation_model`. \n",
    "\n",
    "Remember that the test data contains only 3 observations."
   ]
  },
  {
   "cell_type": "code",
   "execution_count": 29,
   "metadata": {},
   "outputs": [
    {
     "name": "stdout",
     "output_type": "stream",
     "text": [
      "NOTE: Due to data distribution, miniBatchSize has been limited to 3.\n"
     ]
    }
   ],
   "source": [
    "# score the test data using the trained text generation model `text_generation_model`\n",
    "# inference will generate a title for the input text passage\n",
    "\n",
    "text_generation_model.predict(data='toytext_test',\n",
    "                              text_parms=TextParms(init_input_embeddings='word_embeddings',\n",
    "                                                   init_output_embeddings='keyedGlove', \n",
    "                                                   has_output_term_ids=True))\n",
    "\n",
    "r = text_generation_model.valid_res_tbl.fetch(to=3)"
   ]
  },
  {
   "cell_type": "markdown",
   "metadata": {},
   "source": [
    "#### Sample input text"
   ]
  },
  {
   "cell_type": "code",
   "execution_count": 27,
   "metadata": {},
   "outputs": [
    {
     "data": {
      "text/plain": [
       "\"A deeply golden, even slightly orange handful of fire rises in the dusk each day and spends the entire night crossing low across the south sky. That imposing mass of celestial flame and fame is none other than the most fascinating of all Earth's fellow worlds, the planet Mars - making its closest approach to Earth in 15 years just two weeks from now.\""
      ]
     },
     "execution_count": 27,
     "metadata": {},
     "output_type": "execute_result"
    }
   ],
   "source": [
    "r.Fetch['text'][1]"
   ]
  },
  {
   "cell_type": "markdown",
   "metadata": {},
   "source": [
    "#### Generated title"
   ]
  },
  {
   "cell_type": "code",
   "execution_count": 30,
   "metadata": {},
   "outputs": [
    {
     "data": {
      "text/plain": [
       "\"Enjoying the view of Mars? You ain't seen nothing yet\""
      ]
     },
     "execution_count": 30,
     "metadata": {},
     "output_type": "execute_result"
    }
   ],
   "source": [
    "r.Fetch['title'][1]"
   ]
  }
 ],
 "metadata": {
  "kernelspec": {
   "display_name": "Python 3",
   "language": "python",
   "name": "python3"
  },
  "language_info": {
   "codemirror_mode": {
    "name": "ipython",
    "version": 3
   },
   "file_extension": ".py",
   "mimetype": "text/x-python",
   "name": "python",
   "nbconvert_exporter": "python",
   "pygments_lexer": "ipython3",
   "version": "3.6.5"
  }
 },
 "nbformat": 4,
 "nbformat_minor": 2
}
